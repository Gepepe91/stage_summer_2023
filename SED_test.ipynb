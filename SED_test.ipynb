{
 "cells": [
  {
   "cell_type": "markdown",
   "metadata": {},
   "source": [
    "# Préparation des données"
   ]
  },
  {
   "cell_type": "code",
   "execution_count": 1,
   "metadata": {},
   "outputs": [],
   "source": [
    "# Ce notebook m'a permis de me familiariser avec les SED au début de mon stage\n",
    "# Il y a des tatonnements sur la gestion des masques\n",
    "# Les premières SED concernent une centaine de galaxies appartenant au catalogue, arbitraire\n",
    "# Ce n'est que plus loin qu'il y a aura une sélection des galaxies semblant appartenir à G237\n"
   ]
  },
  {
   "cell_type": "code",
   "execution_count": 2,
   "metadata": {},
   "outputs": [],
   "source": [
    "%matplotlib inline \n",
    "import numpy as np \n",
    "import numpy.ma as ma #Pour les masked array\n",
    "from matplotlib import pyplot as plt \n",
    "import h5py # used in the Data Visualization section \n",
    "\n",
    "from astropy.io import fits,ascii,votable\n",
    "from astropy import units as u \n",
    "from astropy import constants as const\n",
    "from astropy import table\n",
    "from astropy.cosmology import Planck15,FlatLambdaCDM\n",
    "\n",
    "# For ML application\n",
    "from sklearn.cluster import KMeans\n",
    "from sklearn import mixture\n",
    "from itertools import combinations\n",
    "\n",
    "import matplotlib.ticker as ticker  #perso\n",
    "from matplotlib.backends.backend_pdf import PdfPages #perso"
   ]
  },
  {
   "cell_type": "code",
   "execution_count": 3,
   "metadata": {},
   "outputs": [],
   "source": [
    "# Specify the version of the catalog and the folder with the input/output files\n",
    "catversion = 'Farmer'  # this string can be either 'Classic' or 'Farmer'\n",
    "dir_in = './'    #le fichier est dans le répertoire courant\n",
    "dir_out = './'  # the directory where the output of this notebook will be stored"
   ]
  },
  {
   "cell_type": "code",
   "execution_count": 4,
   "metadata": {},
   "outputs": [],
   "source": [
    "# Chose the SED fitting code: \n",
    "# set to 'lp' for LePhare results or\n",
    "# set to 'ez' for EAZY\n",
    "fitversion = 'ez'"
   ]
  },
  {
   "cell_type": "code",
   "execution_count": 5,
   "metadata": {},
   "outputs": [],
   "source": [
    "# Which type of photometric estimates to use? (suffix of the column name)\n",
    "# This choice must be consistent with `catversion`,\n",
    "# choices for Classic are: '_FLUX_APER2', '_FLUX_APER3', '_MAG_APER2,', '_MAG_APER3'\n",
    "# choices for Farmer are '_FLUX' or '_MAG' \n",
    "flx = '_FLUX'  \n",
    "flxerr = '_FLUXERR'  # catalog column for flux/mag error, just add 'ERR'\n",
    "outflx = 'cgs' # 'cgs' or 'uJy'"
   ]
  },
  {
   "cell_type": "code",
   "execution_count": 6,
   "metadata": {},
   "outputs": [
    {
     "name": "stdout",
     "output_type": "stream",
     "text": [
      "1526.0000000000002\n"
     ]
    }
   ],
   "source": [
    "# Filter names, mean wavelength, and other info (see Table 1 in W+21)\n",
    "filt_name = ['GALEX_FUV', 'GALEX_NUV','CFHT_u','CFHT_ustar','HSC_g', 'HSC_r', 'HSC_i', 'HSC_z', 'HSC_y', 'UVISTA_Y', 'UVISTA_J', 'UVISTA_H', 'UVISTA_Ks', 'SC_IB427', 'SC_IB464', 'SC_IA484', 'SC_IB505', 'SC_IA527', 'SC_IB574', 'SC_IA624', 'SC_IA679', 'SC_IB709', 'SC_IA738', 'SC_IA767', 'SC_IB827', 'SC_NB711', 'SC_NB816', 'UVISTA_NB118', 'SC_B', 'SC_gp', 'SC_V', 'SC_rp', 'SC_ip','SC_zp', 'SC_zpp', 'IRAC_CH1', 'IRAC_CH2', 'IRAC_CH3','IRAC_CH4']  \n",
    "filt_lambda = [0.1526,0.2307,0.3709,0.3858,0.4847,0.6219,0.7699,0.8894,0.9761,1.0216,1.2525,1.6466,2.1557,0.4266,0.4635,0.4851,0.5064,0.5261,0.5766,0.6232,0.6780,0.7073,0.7361,0.7694,0.8243,0.7121,0.8150,1.1909,0.4488,0.4804,0.5487,0.6305,0.7693,0.8978,0.9063,3.5686,4.5067,5.7788,7.9958]\n",
    "filt_fwhm = [0.0224,0.07909,0.05181,0.05976,0.1383,0.1547,0.1471,0.0766,0.0786,0.0923,0.1718,0.2905,0.3074,0.02073,0.02182,0.02292,0.0231,0.02429,0.02729,0.03004,0.03363,0.03163,0.03235,0.03648,0.0343,0.0072,0.01198,0.01122,0.0892,0.1265,0.0954,0.1376,0.1497,0.0847,0.1335,0.7443,1.0119,1.4082,2.8796] \n",
    "# corresponding MW attenuation from Schelgel \n",
    "AlambdaDivEBV = [8.31,8.742,4.807,4.674,3.69,2.715,2.0,1.515,1.298,1.213,0.874,0.565,0.365,4.261,3.844,3.622,3.425,3.265,2.938,2.694,2.431,2.29,2.151,1.997,1.748,2.268,1.787,0.946,4.041,3.738,3.128,2.673,2.003,1.436,1.466,0.163,0.112,0.075,0.045]\n",
    "# photometric offsets (not available for all filters, see Table 3 in W+21)\n",
    "zpoff1 = [0.000,-0.352,-0.077,-0.023,0.073,0.101,0.038,0.036,0.086,0.054,0.017,-0.045,0.000,-0.104,-0.044,-0.021,-0.018,-0.045,-0.084,0.005,0.166,-0.023,-0.034,-0.032,-0.069,-0.010,-0.064,0.000,0.000,0.000,0.000,0.000,0.000,0.000,0.000,-0.212,-0.219,0.000,0.000]  # Farmer+LePhare\n",
    "zpoff2 = [0.000,-0.029,-0.006,0.053,0.128,0.127,0.094,0.084,0.100,0.049,0.025,-0.044,0.000,-0.013,-0.008,0.022,0.025,0.033,-0.032,0.031,0.208,-0.009,0.003,-0.015,-0.001,0.023,-0.021,-0.017,-0.075,0.000,0.123,0.035,0.051,0.000,0.095,-0.087,-0.111,0.000,0.000]  # Classic+LePhare\n",
    "zpoff3 = [0.000,0.000,-0.196,-0.054,0.006,0.090,0.043,0.071,0.118,0.078,0.047,-0.034,0.000,-0.199,-0.129,-0.084,-0.073,-0.087,-0.124,0.004,0.154,-0.022,-0.030,-0.013,-0.057,0.000,0.000,0.000,0.000,0.000,0.000,0.000,0.000,0.000,0.000,-0.102,-0.044,0.000,0.000] # Farmer+EAZY\n",
    "zpoff4 = [0.000,0.000,0.000,-0.021,0.055,0.124,0.121,0.121,0.145,0.085,0.057,-0.036,0.000,-0.133,-0.098,-0.046,-0.037,-0.038,-0.062,0.038,0.214,0.024,0.022,0.01,0.022,0.000,0.000,0.00,0.00,0.00,0.00,0.00,0.00,0.00,0.00,0.021,0.025,0.000,0.000] # Classic+EAZY\n",
    "# create the dictionary\n",
    "filt_dict = {filt_name[i]:(filt_lambda[i]*1e4,filt_fwhm[i]*1e4,AlambdaDivEBV[i],[zpoff1[i],zpoff2[i],zpoff3[i],zpoff4[i]]) for i in range(len(filt_name))}\n",
    "\n",
    "print(filt_dict['GALEX_FUV'][0])"
   ]
  },
  {
   "cell_type": "code",
   "execution_count": 7,
   "metadata": {},
   "outputs": [
    {
     "name": "stderr",
     "output_type": "stream",
     "text": [
      "WARNING: UnitsWarning: 'log(solMass)' did not parse as fits unit: 'log' is not a recognized function If this is meant to be a custom unit, define it with 'u.def_unit'. To have it recognized inside a file reader or other code, enable it with 'u.add_enabled_units'. For details, see https://docs.astropy.org/en/latest/units/combining_and_defining.html [astropy.units.core]\n",
      "WARNING: UnitsWarning: 'log(solMass/yr)' did not parse as fits unit: 'log' is not a recognized function If this is meant to be a custom unit, define it with 'u.def_unit'. To have it recognized inside a file reader or other code, enable it with 'u.add_enabled_units'. For details, see https://docs.astropy.org/en/latest/units/combining_and_defining.html [astropy.units.core]\n",
      "WARNING: UnitsWarning: 'log(yr**(-1))' did not parse as fits unit: 'log' is not a recognized function If this is meant to be a custom unit, define it with 'u.def_unit'. To have it recognized inside a file reader or other code, enable it with 'u.add_enabled_units'. For details, see https://docs.astropy.org/en/latest/units/combining_and_defining.html [astropy.units.core]\n",
      "WARNING: UnitsWarning: 'log(solLum)' did not parse as fits unit: 'log' is not a recognized function If this is meant to be a custom unit, define it with 'u.def_unit'. To have it recognized inside a file reader or other code, enable it with 'u.add_enabled_units'. For details, see https://docs.astropy.org/en/latest/units/combining_and_defining.html [astropy.units.core]\n"
     ]
    }
   ],
   "source": [
    "# Upload the main catalogue\n",
    "#cat0 = table.Table.read(dir_in+'COSMOS2020_{}_R1_v2.0.fits'.format(catversion.upper()),format='fits',hdu=1)\n",
    "\n",
    "### je n'ai pas un fichier du même nom, je modifie en conséquence\n",
    "\n",
    "cat0 = table.Table.read(dir_in+'COSMOS2020_{}_R1_v2.2_p3.fits'.format(catversion.upper()),format='fits',hdu=1)"
   ]
  },
  {
   "cell_type": "code",
   "execution_count": 8,
   "metadata": {},
   "outputs": [],
   "source": [
    "# Create a mask to restrict the analysis to a subset of filters (optional)\n",
    "filt_use = ['CFHT_ustar', 'CFHT_u', 'HSC_g', 'HSC_r', 'HSC_i', 'HSC_z', 'HSC_y', 'UVISTA_Y', 'UVISTA_J', 'UVISTA_H', 'UVISTA_Ks', 'IRAC_CH1', 'IRAC_CH2']\n",
    "filt_mask = [i in filt_use for i in filt_name]\n",
    "\n",
    "### Je crois que cela ne change rien si je l'active ou non"
   ]
  },
  {
   "cell_type": "code",
   "execution_count": 9,
   "metadata": {},
   "outputs": [
    {
     "data": {
      "text/html": [
       "<div><i>Table length=2</i>\n",
       "<table id=\"table140404444218944\" class=\"table-striped table-bordered table-condensed\">\n",
       "<thead><tr><th>ID</th><th>ALPHA_J2000</th><th>DELTA_J2000</th><th>X_MODEL</th><th>Y_MODEL</th><th>ERRX_MODEL</th><th>ERRY_MODEL</th><th>ALPHA_DETECTION</th><th>DELTA_DETECTION</th><th>FARMER_ID</th><th>GROUP_ID</th><th>N_GROUP</th><th>MODEL_FLAG</th><th>SOLUTION_MODEL</th><th>FLAG_HSC</th><th>FLAG_SUPCAM</th><th>FLAG_UDEEP</th><th>FLAG_UVISTA</th><th>FLAG_COMBINED</th><th>EBV_MW</th><th>CFHT_u_FLUX</th><th>CFHT_u_FLUXERR</th><th>CFHT_u_MAG</th><th>CFHT_u_MAGERR</th><th>CFHT_u_CHISQ</th><th>CFHT_u_DRIFT</th><th>CFHT_u_VALID</th><th>CFHT_ustar_FLUX</th><th>CFHT_ustar_FLUXERR</th><th>CFHT_ustar_MAG</th><th>CFHT_ustar_MAGERR</th><th>CFHT_ustar_CHISQ</th><th>CFHT_ustar_DRIFT</th><th>CFHT_ustar_VALID</th><th>HSC_g_FLUX</th><th>HSC_g_FLUXERR</th><th>HSC_g_MAG</th><th>HSC_g_MAGERR</th><th>HSC_g_CHISQ</th><th>HSC_g_DRIFT</th><th>HSC_g_VALID</th><th>HSC_r_FLUX</th><th>HSC_r_FLUXERR</th><th>HSC_r_MAG</th><th>HSC_r_MAGERR</th><th>HSC_r_CHISQ</th><th>HSC_r_DRIFT</th><th>HSC_r_VALID</th><th>HSC_i_FLUX</th><th>HSC_i_FLUXERR</th><th>HSC_i_MAG</th><th>HSC_i_MAGERR</th><th>HSC_i_CHISQ</th><th>HSC_i_DRIFT</th><th>HSC_i_VALID</th><th>HSC_z_FLUX</th><th>HSC_z_FLUXERR</th><th>HSC_z_MAG</th><th>HSC_z_MAGERR</th><th>HSC_z_CHISQ</th><th>HSC_z_DRIFT</th><th>HSC_z_VALID</th><th>HSC_y_FLUX</th><th>HSC_y_FLUXERR</th><th>HSC_y_MAG</th><th>HSC_y_MAGERR</th><th>HSC_y_CHISQ</th><th>HSC_y_DRIFT</th><th>HSC_y_VALID</th><th>UVISTA_Y_FLUX</th><th>UVISTA_Y_FLUXERR</th><th>UVISTA_Y_MAG</th><th>UVISTA_Y_MAGERR</th><th>UVISTA_Y_CHISQ</th><th>UVISTA_Y_DRIFT</th><th>UVISTA_Y_VALID</th><th>UVISTA_J_FLUX</th><th>UVISTA_J_FLUXERR</th><th>UVISTA_J_MAG</th><th>UVISTA_J_MAGERR</th><th>UVISTA_J_CHISQ</th><th>UVISTA_J_DRIFT</th><th>UVISTA_J_VALID</th><th>UVISTA_H_FLUX</th><th>UVISTA_H_FLUXERR</th><th>UVISTA_H_MAG</th><th>UVISTA_H_MAGERR</th><th>UVISTA_H_CHISQ</th><th>UVISTA_H_DRIFT</th><th>UVISTA_H_VALID</th><th>UVISTA_Ks_FLUX</th><th>UVISTA_Ks_FLUXERR</th><th>UVISTA_Ks_MAG</th><th>UVISTA_Ks_MAGERR</th><th>UVISTA_Ks_CHISQ</th><th>UVISTA_Ks_DRIFT</th><th>UVISTA_Ks_VALID</th><th>UVISTA_NB118_FLUX</th><th>UVISTA_NB118_FLUXERR</th><th>UVISTA_NB118_MAG</th><th>UVISTA_NB118_MAGERR</th><th>UVISTA_NB118_CHISQ</th><th>UVISTA_NB118_DRIFT</th><th>UVISTA_NB118_VALID</th><th>SC_IB427_FLUX</th><th>SC_IB427_FLUXERR</th><th>SC_IB427_MAG</th><th>SC_IB427_MAGERR</th><th>SC_IB427_CHISQ</th><th>SC_IB427_DRIFT</th><th>SC_IB427_VALID</th><th>SC_IB464_FLUX</th><th>SC_IB464_FLUXERR</th><th>SC_IB464_MAG</th><th>SC_IB464_MAGERR</th><th>SC_IB464_CHISQ</th><th>SC_IB464_DRIFT</th><th>SC_IB464_VALID</th><th>SC_IA484_FLUX</th><th>SC_IA484_FLUXERR</th><th>SC_IA484_MAG</th><th>SC_IA484_MAGERR</th><th>SC_IA484_CHISQ</th><th>SC_IA484_DRIFT</th><th>SC_IA484_VALID</th><th>SC_IB505_FLUX</th><th>SC_IB505_FLUXERR</th><th>SC_IB505_MAG</th><th>SC_IB505_MAGERR</th><th>SC_IB505_CHISQ</th><th>SC_IB505_DRIFT</th><th>SC_IB505_VALID</th><th>SC_IA527_FLUX</th><th>SC_IA527_FLUXERR</th><th>SC_IA527_MAG</th><th>SC_IA527_MAGERR</th><th>SC_IA527_CHISQ</th><th>SC_IA527_DRIFT</th><th>SC_IA527_VALID</th><th>SC_IB574_FLUX</th><th>SC_IB574_FLUXERR</th><th>SC_IB574_MAG</th><th>SC_IB574_MAGERR</th><th>SC_IB574_CHISQ</th><th>SC_IB574_DRIFT</th><th>SC_IB574_VALID</th><th>SC_IA624_FLUX</th><th>SC_IA624_FLUXERR</th><th>SC_IA624_MAG</th><th>SC_IA624_MAGERR</th><th>SC_IA624_CHISQ</th><th>SC_IA624_DRIFT</th><th>SC_IA624_VALID</th><th>SC_IA679_FLUX</th><th>SC_IA679_FLUXERR</th><th>SC_IA679_MAG</th><th>SC_IA679_MAGERR</th><th>SC_IA679_CHISQ</th><th>SC_IA679_DRIFT</th><th>SC_IA679_VALID</th><th>SC_IB709_FLUX</th><th>SC_IB709_FLUXERR</th><th>SC_IB709_MAG</th><th>SC_IB709_MAGERR</th><th>SC_IB709_CHISQ</th><th>SC_IB709_DRIFT</th><th>SC_IB709_VALID</th><th>SC_IA738_FLUX</th><th>SC_IA738_FLUXERR</th><th>SC_IA738_MAG</th><th>SC_IA738_MAGERR</th><th>SC_IA738_CHISQ</th><th>SC_IA738_DRIFT</th><th>SC_IA738_VALID</th><th>SC_IA767_FLUX</th><th>SC_IA767_FLUXERR</th><th>SC_IA767_MAG</th><th>SC_IA767_MAGERR</th><th>SC_IA767_CHISQ</th><th>SC_IA767_DRIFT</th><th>SC_IA767_VALID</th><th>SC_IB827_FLUX</th><th>SC_IB827_FLUXERR</th><th>SC_IB827_MAG</th><th>SC_IB827_MAGERR</th><th>SC_IB827_CHISQ</th><th>SC_IB827_DRIFT</th><th>SC_IB827_VALID</th><th>SC_NB711_FLUX</th><th>SC_NB711_FLUXERR</th><th>SC_NB711_MAG</th><th>SC_NB711_MAGERR</th><th>SC_NB711_CHISQ</th><th>SC_NB711_DRIFT</th><th>SC_NB711_VALID</th><th>SC_NB816_FLUX</th><th>SC_NB816_FLUXERR</th><th>SC_NB816_MAG</th><th>SC_NB816_MAGERR</th><th>SC_NB816_CHISQ</th><th>SC_NB816_DRIFT</th><th>SC_NB816_VALID</th><th>IRAC_CH1_FLUX</th><th>IRAC_CH1_FLUXERR</th><th>IRAC_CH1_MAG</th><th>IRAC_CH1_MAGERR</th><th>IRAC_CH1_CHISQ</th><th>IRAC_CH1_DRIFT</th><th>IRAC_CH1_VALID</th><th>IRAC_CH2_FLUX</th><th>IRAC_CH2_FLUXERR</th><th>IRAC_CH2_MAG</th><th>IRAC_CH2_MAGERR</th><th>IRAC_CH2_CHISQ</th><th>IRAC_CH2_DRIFT</th><th>IRAC_CH2_VALID</th><th>IRAC_CH3_FLUX</th><th>IRAC_CH3_FLUXERR</th><th>IRAC_CH3_MAG</th><th>IRAC_CH3_MAGERR</th><th>IRAC_CH3_CHISQ</th><th>IRAC_CH3_DRIFT</th><th>IRAC_CH3_VALID</th><th>IRAC_CH4_FLUX</th><th>IRAC_CH4_FLUXERR</th><th>IRAC_CH4_MAG</th><th>IRAC_CH4_MAGERR</th><th>IRAC_CH4_CHISQ</th><th>IRAC_CH4_DRIFT</th><th>IRAC_CH4_VALID</th><th>ID_GALEX</th><th>GALEX_NUV_FLUX</th><th>GALEX_NUV_FLUXERR</th><th>GALEX_NUV_MAG</th><th>GALEX_NUV_MAGERR</th><th>GALEX_FUV_FLUX</th><th>GALEX_FUV_FLUXERR</th><th>GALEX_FUV_MAG</th><th>GALEX_FUV_MAGERR</th><th>ID_COSMOS2015</th><th>SPLASH_CH1_FLUX</th><th>SPLASH_CH1_FLUXERR</th><th>SPLASH_CH1_MAG</th><th>SPLASH_CH1_MAGERR</th><th>SPLASH_CH2_FLUX</th><th>SPLASH_CH2_FLUXERR</th><th>SPLASH_CH2_MAG</th><th>SPLASH_CH2_MAGERR</th><th>SPLASH_CH3_FLUX</th><th>SPLASH_CH3_FLUXERR</th><th>SPLASH_CH3_MAG</th><th>SPLASH_CH3_MAGERR</th><th>SPLASH_CH4_FLUX</th><th>SPLASH_CH4_FLUXERR</th><th>SPLASH_CH4_MAG</th><th>SPLASH_CH4_MAGERR</th><th>ID_ACS</th><th>ACS_F814W_MAG</th><th>ACS_F814W_MAGERR</th><th>ACS_F814W_FLUX</th><th>ACS_F814W_FLUXERR</th><th>ACS_A_WORLD</th><th>ACS_B_WORLD</th><th>ACS_THETA_WORLD</th><th>ACS_FWHM_WORLD</th><th>ACS_MU_MAX</th><th>ACS_MU_CLASS</th><th>ID_CHANDRA</th><th>ID_CLASSIC</th><th>lp_zBEST</th><th>lp_type</th><th>lp_zPDF</th><th>lp_zPDF_l68</th><th>lp_zPDF_u68</th><th>lp_zMinChi2</th><th>lp_chi2_best</th><th>lp_zp_2</th><th>lp_chi2_2</th><th>lp_NbFilt</th><th>lp_zq</th><th>lp_chiq</th><th>lp_modq</th><th>lp_mods</th><th>lp_chis</th><th>lp_mask</th><th>lp_model</th><th>lp_age</th><th>lp_dust</th><th>lp_Attenuation</th><th>lp_MFUV</th><th>lp_MNUV</th><th>lp_MU</th><th>lp_MG</th><th>lp_MR</th><th>lp_MI</th><th>lp_MZ</th><th>lp_MY</th><th>lp_MJ</th><th>lp_MH</th><th>lp_MK</th><th>lp_mass_med</th><th>lp_mass_med_min68</th><th>lp_mass_med_max68</th><th>lp_mass_best</th><th>lp_SFR_med</th><th>lp_SFR_med_min68</th><th>lp_SFR_med_max68</th><th>lp_SFR_best</th><th>lp_sSFR_med</th><th>lp_sSFR_med_min68</th><th>lp_sSFR_med_max68</th><th>lp_sSFR_best</th><th>ez_z_phot</th><th>ez_z_phot_chi2</th><th>ez_z_phot_risk</th><th>ez_z_min_risk</th><th>ez_min_risk</th><th>ez_z_raw_chi2</th><th>ez_raw_chi2</th><th>ez_z025</th><th>ez_z160</th><th>ez_z500</th><th>ez_z840</th><th>ez_z975</th><th>ez_nusefilt</th><th>ez_lc_min</th><th>ez_lc_max</th><th>ez_star_min_chi2</th><th>ez_star_teff</th><th>ez_restU</th><th>ez_restU_err</th><th>ez_restB</th><th>ez_restB_err</th><th>ez_restV</th><th>ez_restV_err</th><th>ez_restJ</th><th>ez_restJ_err</th><th>ez_dL</th><th>ez_mass</th><th>ez_sfr</th><th>ez_ssfr</th><th>ez_Lv</th><th>ez_LIR</th><th>ez_energy_abs</th><th>ez_Lu</th><th>ez_Lj</th><th>ez_L1400</th><th>ez_L2800</th><th>ez_LHa</th><th>ez_LOIII</th><th>ez_LHb</th><th>ez_LOII</th><th>ez_MLv</th><th>ez_Av</th><th>ez_lwAgeV</th><th>ez_mass_p025</th><th>ez_mass_p160</th><th>ez_mass_p500</th><th>ez_mass_p840</th><th>ez_mass_p975</th><th>ez_sfr_p025</th><th>ez_sfr_p160</th><th>ez_sfr_p500</th><th>ez_sfr_p840</th><th>ez_sfr_p975</th><th>ez_Lv_p025</th><th>ez_Lv_p160</th><th>ez_Lv_p500</th><th>ez_Lv_p840</th><th>ez_Lv_p975</th><th>ez_LIR_p025</th><th>ez_LIR_p160</th><th>ez_LIR_p500</th><th>ez_LIR_p840</th><th>ez_LIR_p975</th><th>ez_energy_abs_p025</th><th>ez_energy_abs_p160</th><th>ez_energy_abs_p500</th><th>ez_energy_abs_p840</th><th>ez_energy_abs_p975</th><th>ez_Lu_p025</th><th>ez_Lu_p160</th><th>ez_Lu_p500</th><th>ez_Lu_p840</th><th>ez_Lu_p975</th><th>ez_Lj_p025</th><th>ez_Lj_p160</th><th>ez_Lj_p500</th><th>ez_Lj_p840</th><th>ez_Lj_p975</th><th>ez_L1400_p025</th><th>ez_L1400_p160</th><th>ez_L1400_p500</th><th>ez_L1400_p840</th><th>ez_L1400_p975</th><th>ez_L2800_p025</th><th>ez_L2800_p160</th><th>ez_L2800_p500</th><th>ez_L2800_p840</th><th>ez_L2800_p975</th><th>ez_LHa_p025</th><th>ez_LHa_p160</th><th>ez_LHa_p500</th><th>ez_LHa_p840</th><th>ez_LHa_p975</th><th>ez_LOIII_p025</th><th>ez_LOIII_p160</th><th>ez_LOIII_p500</th><th>ez_LOIII_p840</th><th>ez_LOIII_p975</th><th>ez_LHb_p025</th><th>ez_LHb_p160</th><th>ez_LHb_p500</th><th>ez_LHb_p840</th><th>ez_LHb_p975</th><th>ez_LOII_p025</th><th>ez_LOII_p160</th><th>ez_LOII_p500</th><th>ez_LOII_p840</th><th>ez_LOII_p975</th><th>ez_ssfr_p025</th><th>ez_ssfr_p160</th><th>ez_ssfr_p500</th><th>ez_ssfr_p840</th><th>ez_ssfr_p975</th><th>ez_Av_p025</th><th>ez_Av_p160</th><th>ez_Av_p500</th><th>ez_Av_p840</th><th>ez_Av_p975</th></tr></thead>\n",
       "<thead><tr><th></th><th>deg</th><th>deg</th><th>pix</th><th>pix</th><th>pix</th><th>pix</th><th>deg</th><th>deg</th><th></th><th></th><th></th><th></th><th></th><th></th><th></th><th></th><th></th><th></th><th></th><th>uJy</th><th>uJy</th><th>mag</th><th>mag</th><th></th><th>arcsec</th><th></th><th>uJy</th><th>uJy</th><th>mag</th><th>mag</th><th></th><th>arcsec</th><th></th><th>uJy</th><th>uJy</th><th>mag</th><th>mag</th><th></th><th>arcsec</th><th></th><th>uJy</th><th>uJy</th><th>mag</th><th>mag</th><th></th><th>arcsec</th><th></th><th>uJy</th><th>uJy</th><th>mag</th><th>mag</th><th></th><th>arcsec</th><th></th><th>uJy</th><th>uJy</th><th>mag</th><th>mag</th><th></th><th>arcsec</th><th></th><th>uJy</th><th>uJy</th><th>mag</th><th>mag</th><th></th><th>arcsec</th><th></th><th>uJy</th><th>uJy</th><th>mag</th><th>mag</th><th></th><th>arcsec</th><th></th><th>uJy</th><th>uJy</th><th>mag</th><th>mag</th><th></th><th>arcsec</th><th></th><th>uJy</th><th>uJy</th><th>mag</th><th>mag</th><th></th><th>arcsec</th><th></th><th>uJy</th><th>uJy</th><th>mag</th><th>mag</th><th></th><th>arcsec</th><th></th><th>uJy</th><th>uJy</th><th>mag</th><th>mag</th><th></th><th>arcsec</th><th></th><th>uJy</th><th>uJy</th><th>mag</th><th>mag</th><th></th><th>arcsec</th><th></th><th>uJy</th><th>uJy</th><th>mag</th><th>mag</th><th></th><th>arcsec</th><th></th><th>uJy</th><th>uJy</th><th>mag</th><th>mag</th><th></th><th>arcsec</th><th></th><th>uJy</th><th>uJy</th><th>mag</th><th>mag</th><th></th><th>arcsec</th><th></th><th>uJy</th><th>uJy</th><th>mag</th><th>mag</th><th></th><th>arcsec</th><th></th><th>uJy</th><th>uJy</th><th>mag</th><th>mag</th><th></th><th>arcsec</th><th></th><th>uJy</th><th>uJy</th><th>mag</th><th>mag</th><th></th><th>arcsec</th><th></th><th>uJy</th><th>uJy</th><th>mag</th><th>mag</th><th></th><th>arcsec</th><th></th><th>uJy</th><th>uJy</th><th>mag</th><th>mag</th><th></th><th>arcsec</th><th></th><th>uJy</th><th>uJy</th><th>mag</th><th>mag</th><th></th><th>arcsec</th><th></th><th>uJy</th><th>uJy</th><th>mag</th><th>mag</th><th></th><th>arcsec</th><th></th><th>uJy</th><th>uJy</th><th>mag</th><th>mag</th><th></th><th>arcsec</th><th></th><th>uJy</th><th>uJy</th><th>mag</th><th>mag</th><th></th><th>arcsec</th><th></th><th>uJy</th><th>uJy</th><th>mag</th><th>mag</th><th></th><th>arcsec</th><th></th><th>uJy</th><th>uJy</th><th>mag</th><th>mag</th><th></th><th>arcsec</th><th></th><th>uJy</th><th>uJy</th><th>mag</th><th>mag</th><th></th><th>arcsec</th><th></th><th>uJy</th><th>uJy</th><th>mag</th><th>mag</th><th></th><th>arcsec</th><th></th><th>uJy</th><th>uJy</th><th>mag</th><th>mag</th><th></th><th>arcsec</th><th></th><th></th><th>uJy</th><th>uJy</th><th>mag</th><th>mag</th><th>uJy</th><th>uJy</th><th>mag</th><th>mag</th><th></th><th>uJy</th><th>uJy</th><th>mag</th><th>mag</th><th>uJy</th><th>uJy</th><th>mag</th><th>mag</th><th>uJy</th><th>uJy</th><th>mag</th><th>mag</th><th>uJy</th><th>uJy</th><th>mag</th><th>mag</th><th></th><th>mag</th><th>mag</th><th>uJy</th><th>uJy</th><th>deg</th><th>deg</th><th>deg</th><th>deg</th><th></th><th></th><th></th><th></th><th></th><th></th><th></th><th></th><th></th><th></th><th></th><th></th><th></th><th></th><th></th><th></th><th></th><th></th><th></th><th></th><th></th><th>yr</th><th></th><th></th><th>mag</th><th>mag</th><th>mag</th><th>mag</th><th>mag</th><th>mag</th><th>mag</th><th>mag</th><th>mag</th><th>mag</th><th>mag</th><th>log(solMass)</th><th>log(solMass)</th><th>log(solMass)</th><th>log(solMass)</th><th>log(solMass/yr)</th><th>log(solMass/yr)</th><th>log(solMass/yr)</th><th>log(solMass/yr)</th><th>log(yr**(-1))</th><th>log(yr**(-1))</th><th>log(yr**(-1))</th><th>log(yr**(-1))</th><th></th><th></th><th></th><th></th><th></th><th></th><th></th><th></th><th></th><th></th><th></th><th></th><th></th><th>Angstrom</th><th>Angstrom</th><th></th><th>K</th><th>uJy</th><th>uJy</th><th>uJy</th><th>uJy</th><th>uJy</th><th>uJy</th><th>uJy</th><th>uJy</th><th>Mpc</th><th>log(solMass)</th><th>log(solMass/yr)</th><th>log(yr**(-1))</th><th>log(solLum)</th><th>solLum</th><th>solLum</th><th>solLum</th><th>solLum</th><th>solLum</th><th>solLum</th><th>solLum</th><th>solLum</th><th>solLum</th><th>solLum</th><th>solMass / solLum</th><th>mag</th><th>Gyr</th><th>log(solMass)</th><th>log(solMass)</th><th>log(solMass)</th><th>log(solMass)</th><th>log(solMass)</th><th>log(solMass/yr)</th><th>log(solMass/yr)</th><th>log(solMass/yr)</th><th>log(solMass/yr)</th><th>log(solMass/yr)</th><th>log(solLum)</th><th>log(solLum)</th><th>log(solLum)</th><th>log(solLum)</th><th>log(solLum)</th><th>solLum</th><th>solLum</th><th>solLum</th><th>solLum</th><th>solLum</th><th>solLum</th><th>solLum</th><th>solLum</th><th>solLum</th><th>solLum</th><th>solLum</th><th>solLum</th><th>solLum</th><th>solLum</th><th>solLum</th><th>solLum</th><th>solLum</th><th>solLum</th><th>solLum</th><th>solLum</th><th>solLum</th><th>solLum</th><th>solLum</th><th>solLum</th><th>solLum</th><th>solLum</th><th>solLum</th><th>solLum</th><th>solLum</th><th>solLum</th><th>solLum</th><th>solLum</th><th>solLum</th><th>solLum</th><th>solLum</th><th>solLum</th><th>solLum</th><th>solLum</th><th>solLum</th><th>solLum</th><th>solLum</th><th>solLum</th><th>solLum</th><th>solLum</th><th>solLum</th><th>solLum</th><th>solLum</th><th>solLum</th><th>solLum</th><th>solLum</th><th>log(yr**(-1))</th><th>log(yr**(-1))</th><th>log(yr**(-1))</th><th>log(yr**(-1))</th><th>log(yr**(-1))</th><th>mag</th><th>mag</th><th>mag</th><th>mag</th><th>mag</th></tr></thead>\n",
       "<thead><tr><th>int64</th><th>float64</th><th>float64</th><th>float64</th><th>float64</th><th>float64</th><th>float64</th><th>float64</th><th>float64</th><th>bytes8</th><th>int64</th><th>int64</th><th>int16</th><th>bytes20</th><th>int16</th><th>int16</th><th>int16</th><th>int16</th><th>int64</th><th>float64</th><th>float64</th><th>float64</th><th>float64</th><th>float64</th><th>float64</th><th>float64</th><th>bool</th><th>float64</th><th>float64</th><th>float64</th><th>float64</th><th>float64</th><th>float64</th><th>bool</th><th>float64</th><th>float64</th><th>float64</th><th>float64</th><th>float64</th><th>float64</th><th>bool</th><th>float64</th><th>float64</th><th>float64</th><th>float64</th><th>float64</th><th>float64</th><th>bool</th><th>float64</th><th>float64</th><th>float64</th><th>float64</th><th>float64</th><th>float64</th><th>bool</th><th>float64</th><th>float64</th><th>float64</th><th>float64</th><th>float64</th><th>float64</th><th>bool</th><th>float64</th><th>float64</th><th>float64</th><th>float64</th><th>float64</th><th>float64</th><th>bool</th><th>float64</th><th>float64</th><th>float64</th><th>float64</th><th>float64</th><th>float64</th><th>bool</th><th>float64</th><th>float64</th><th>float64</th><th>float64</th><th>float64</th><th>float64</th><th>bool</th><th>float64</th><th>float64</th><th>float64</th><th>float64</th><th>float64</th><th>float64</th><th>bool</th><th>float64</th><th>float64</th><th>float64</th><th>float64</th><th>float64</th><th>float64</th><th>bool</th><th>float64</th><th>float64</th><th>float64</th><th>float64</th><th>float64</th><th>float64</th><th>bool</th><th>float64</th><th>float64</th><th>float64</th><th>float64</th><th>float64</th><th>float64</th><th>bool</th><th>float64</th><th>float64</th><th>float64</th><th>float64</th><th>float64</th><th>float64</th><th>bool</th><th>float64</th><th>float64</th><th>float64</th><th>float64</th><th>float64</th><th>float64</th><th>bool</th><th>float64</th><th>float64</th><th>float64</th><th>float64</th><th>float64</th><th>float64</th><th>bool</th><th>float64</th><th>float64</th><th>float64</th><th>float64</th><th>float64</th><th>float64</th><th>bool</th><th>float64</th><th>float64</th><th>float64</th><th>float64</th><th>float64</th><th>float64</th><th>bool</th><th>float64</th><th>float64</th><th>float64</th><th>float64</th><th>float64</th><th>float64</th><th>bool</th><th>float64</th><th>float64</th><th>float64</th><th>float64</th><th>float64</th><th>float64</th><th>bool</th><th>float64</th><th>float64</th><th>float64</th><th>float64</th><th>float64</th><th>float64</th><th>bool</th><th>float64</th><th>float64</th><th>float64</th><th>float64</th><th>float64</th><th>float64</th><th>bool</th><th>float64</th><th>float64</th><th>float64</th><th>float64</th><th>float64</th><th>float64</th><th>bool</th><th>float64</th><th>float64</th><th>float64</th><th>float64</th><th>float64</th><th>float64</th><th>bool</th><th>float64</th><th>float64</th><th>float64</th><th>float64</th><th>float64</th><th>float64</th><th>bool</th><th>float64</th><th>float64</th><th>float64</th><th>float64</th><th>float64</th><th>float64</th><th>bool</th><th>float64</th><th>float64</th><th>float64</th><th>float64</th><th>float64</th><th>float64</th><th>bool</th><th>float64</th><th>float64</th><th>float64</th><th>float64</th><th>float64</th><th>float64</th><th>bool</th><th>float64</th><th>float64</th><th>float64</th><th>float64</th><th>float64</th><th>float64</th><th>bool</th><th>float64</th><th>float64</th><th>float64</th><th>float64</th><th>float64</th><th>float64</th><th>bool</th><th>int64</th><th>float64</th><th>float64</th><th>float64</th><th>float64</th><th>float64</th><th>float64</th><th>float64</th><th>float64</th><th>int64</th><th>float32</th><th>float32</th><th>float32</th><th>float32</th><th>float32</th><th>float32</th><th>float32</th><th>float32</th><th>float32</th><th>float32</th><th>float32</th><th>float32</th><th>float32</th><th>float32</th><th>float32</th><th>float32</th><th>int64</th><th>float32</th><th>float32</th><th>float64</th><th>float64</th><th>float32</th><th>float32</th><th>float32</th><th>float32</th><th>float32</th><th>int16</th><th>bytes9</th><th>int64</th><th>float64</th><th>int64</th><th>float64</th><th>float64</th><th>float64</th><th>float64</th><th>float64</th><th>float64</th><th>float64</th><th>int64</th><th>float64</th><th>float64</th><th>float64</th><th>float64</th><th>float64</th><th>float64</th><th>int64</th><th>float64</th><th>float64</th><th>int64</th><th>float64</th><th>float64</th><th>float64</th><th>float64</th><th>float64</th><th>float64</th><th>float64</th><th>float64</th><th>float64</th><th>float64</th><th>float64</th><th>float64</th><th>float64</th><th>float64</th><th>float64</th><th>float64</th><th>float64</th><th>float64</th><th>float64</th><th>float64</th><th>float64</th><th>float64</th><th>float64</th><th>float32</th><th>float32</th><th>float32</th><th>float32</th><th>float32</th><th>float32</th><th>float32</th><th>float32</th><th>float32</th><th>float32</th><th>float32</th><th>float32</th><th>int64</th><th>float64</th><th>float64</th><th>float32</th><th>int64</th><th>float32</th><th>float32</th><th>float32</th><th>float32</th><th>float32</th><th>float32</th><th>float32</th><th>float32</th><th>float64</th><th>float64</th><th>float64</th><th>float64</th><th>float64</th><th>float64</th><th>float64</th><th>float64</th><th>float64</th><th>float64</th><th>float64</th><th>float64</th><th>float64</th><th>float64</th><th>float64</th><th>float64</th><th>float64</th><th>float64</th><th>float64</th><th>float64</th><th>float64</th><th>float64</th><th>float64</th><th>float64</th><th>float64</th><th>float64</th><th>float64</th><th>float64</th><th>float64</th><th>float64</th><th>float64</th><th>float64</th><th>float64</th><th>float64</th><th>float64</th><th>float64</th><th>float64</th><th>float64</th><th>float64</th><th>float64</th><th>float64</th><th>float64</th><th>float64</th><th>float64</th><th>float64</th><th>float64</th><th>float64</th><th>float64</th><th>float64</th><th>float64</th><th>float64</th><th>float64</th><th>float64</th><th>float64</th><th>float64</th><th>float64</th><th>float64</th><th>float64</th><th>float64</th><th>float64</th><th>float64</th><th>float64</th><th>float64</th><th>float64</th><th>float64</th><th>float64</th><th>float64</th><th>float64</th><th>float64</th><th>float64</th><th>float64</th><th>float64</th><th>float64</th><th>float64</th><th>float64</th><th>float64</th><th>float64</th><th>float64</th><th>float64</th><th>float64</th><th>float64</th><th>float64</th><th>float64</th><th>float64</th><th>float64</th><th>float64</th><th>float64</th><th>float64</th><th>float64</th><th>float64</th><th>float64</th><th>float64</th><th>float64</th></tr></thead>\n",
       "<tr><td>1</td><td>150.47759181348482</td><td>2.3289280599580477</td><td>14051.03358364209</td><td>24912.03402844628</td><td>0.019431534427515957</td><td>0.011544643878550745</td><td>150.4776383231628</td><td>2.3289634472602443</td><td>181_32</td><td>1</td><td>3</td><td>0</td><td>PointSource</td><td>0</td><td>0</td><td>0</td><td>0</td><td>0</td><td>0.01465764190485742</td><td>0.1331528587659707</td><td>0.004186348828360162</td><td>26.08912376226729</td><td>0.03413573340311204</td><td>1.0407767328556528</td><td>0.027646698062667008</td><td>True</td><td>0.1428040728983492</td><td>0.0035667690958343825</td><td>26.01314851480203</td><td>0.02711806647221036</td><td>0.9685395910155029</td><td>0.03444138817482245</td><td>True</td><td>0.144234512992056</td><td>0.003468267307233093</td><td>26.00232701879578</td><td>0.02610764445434329</td><td>0.848472786680386</td><td>0.014466979113070499</td><td>True</td><td>0.16032779526955618</td><td>0.004804885971761918</td><td>25.88747794885955</td><td>0.03253857916841798</td><td>0.7599689837708691</td><td>0.006504326802302385</td><td>True</td><td>0.1475053991719227</td><td>0.0045610206599078235</td><td>25.977980207050848</td><td>0.033572094912539</td><td>0.9389547725420019</td><td>0.017352698683492384</td><td>True</td><td>0.16353095773884532</td><td>0.006886879564422909</td><td>25.866000049367496</td><td>0.04572427498922839</td><td>0.7657624995795921</td><td>0.04906046262364291</td><td>True</td><td>0.2148834428630289</td><td>0.01512743701028521</td><td>25.569492615881003</td><td>0.07643402315428267</td><td>0.7977963703082677</td><td>0.05283966674854424</td><td>True</td><td>0.22586391983473975</td><td>0.010935296985526243</td><td>25.515382847534763</td><td>0.05256637649632315</td><td>0.2987936928735843</td><td>0.02834895398098417</td><td>True</td><td>0.3468266510967519</td><td>0.012955112496925438</td><td>25.049718843881003</td><td>0.04055580685667258</td><td>0.6351952791175003</td><td>0.004111921485483275</td><td>True</td><td>0.3724470283661796</td><td>0.016259644938874593</td><td>24.972338716176218</td><td>0.047399183889559236</td><td>0.6248054179947405</td><td>0.049155260749718044</td><td>True</td><td>0.32376576797828804</td><td>0.0216464934093371</td><td>25.12442267867283</td><td>0.0725906934118854</td><td>0.58266714036932</td><td>0.10596386247227135</td><td>True</td><td>0.264649240672339</td><td>0.048536052333105845</td><td>25.343323369355467</td><td>0.19912148291153664</td><td>0.48579206299492733</td><td>0.0404929775210692</td><td>True</td><td>0.12265377232121773</td><td>0.012002042775295138</td><td>26.178297725388894</td><td>0.10624257310298353</td><td>0.6278423086833566</td><td>0.05099123882545416</td><td>True</td><td>0.32528287484598584</td><td>0.021563623918011025</td><td>25.119347000999667</td><td>0.07197552962066685</td><td>1.0969510799959201</td><td>0.06840265519129378</td><td>True</td><td>0.11717008417340785</td><td>0.01092360337920414</td><td>26.227958145215926</td><td>0.10122167069255963</td><td>0.7996434376906069</td><td>0.0552865967121589</td><td>True</td><td>0.19633633407272758</td><td>0.015595583731393947</td><td>25.667498305672638</td><td>0.0862432823322403</td><td>0.6909970612795022</td><td>0.06525836218154457</td><td>True</td><td>0.10509973608628591</td><td>0.010498184500685152</td><td>26.345995936295083</td><td>0.10845183271694091</td><td>0.7899601539931926</td><td>0.02639075690034151</td><td>True</td><td>0.08930174536736066</td><td>0.017550320774001794</td><td>26.52285013228574</td><td>0.21337789749870872</td><td>0.8314370646472216</td><td>0.07611726959517705</td><td>True</td><td>0.1474863716739975</td><td>0.0123619798160566</td><td>25.978120270913323</td><td>0.09100399512471176</td><td>0.7400929284298298</td><td>0.08188074892984638</td><td>True</td><td>0.2005783039777775</td><td>0.02091113386360916</td><td>25.64429011313837</td><td>0.11319257700364058</td><td>0.8408656272203845</td><td>0.07289505439342082</td><td>True</td><td>0.07689637223616926</td><td>0.014003646215268404</td><td>26.685235371399447</td><td>0.1977240961100832</td><td>1.0632350098511638</td><td>0.08629349492046443</td><td>True</td><td>0.1022434784236474</td><td>0.017195708217431632</td><td>26.375910959522813</td><td>0.18260336273735683</td><td>0.6663162421227017</td><td>0.046484736342266166</td><td>True</td><td>0.12097149470695527</td><td>0.023117495863087662</td><td>26.193292383091375</td><td>0.20748278164787742</td><td>0.7641191644774722</td><td>0.043747187973555555</td><td>True</td><td>0.05538423690829383</td><td>0.024098219666449865</td><td>27.041534559201473</td><td>0.4724143731618494</td><td>0.6272917381740954</td><td>0.01743251455427397</td><td>True</td><td>0.19647386294665534</td><td>0.022899831650800225</td><td>25.666738039850326</td><td>0.12654699171304296</td><td>0.8042757996326378</td><td>0.09248100983451468</td><td>True</td><td>0.12683088648382715</td><td>0.01577181116555489</td><td>26.141937430093563</td><td>0.13501463934997435</td><td>0.6147455235460056</td><td>0.034777212163907716</td><td>True</td><td>0.1997151034308777</td><td>0.012499986182277434</td><td>25.64897272604736</td><td>0.0679552388573966</td><td>0.21149472337354372</td><td>0.037128924948865764</td><td>True</td><td>0.3243824025487644</td><td>0.010825896424508907</td><td>25.12235678475934</td><td>0.03623521992776386</td><td>0.1906264034277216</td><td>0.10238376726077482</td><td>True</td><td>1.2574702478240287</td><td>0.45415898261688675</td><td>23.651255704265985</td><td>0.3921340095294853</td><td>0.44267511152479816</td><td>0.01791143947840182</td><td>True</td><td>-2.4508326710259687</td><td>0.48378225302556194</td><td>--</td><td>--</td><td>0.5946840994268447</td><td>0.015020699773979056</td><td>True</td><td>491771</td><td>--</td><td>--</td><td>--</td><td>--</td><td>0.11415147742679674</td><td>0.054074867546652874</td><td>26.256296158</td><td>0.515871823</td><td>677258</td><td>0.3012683</td><td>0.05304416</td><td>25.202616</td><td>0.19116504</td><td>0.32055002</td><td>0.031115286</td><td>25.13526</td><td>0.1053907</td><td>0.0</td><td>3.2342541</td><td>--</td><td>--</td><td>0.0</td><td>3.3057573</td><td>--</td><td>--</td><td>1214917</td><td>25.791597</td><td>0.15976603</td><td>0.025693155186338457</td><td>0.17513012886047363</td><td>4.2482912e-05</td><td>2.3616954e-05</td><td>23.322468</td><td>0.00018533519</td><td>23.252491</td><td>1</td><td>-99</td><td>958884</td><td>1.593</td><td>0</td><td>1.593</td><td>1.514</td><td>1.6732</td><td>1.581</td><td>1.8967115384615385</td><td>--</td><td>--</td><td>29</td><td>2.21</td><td>4.9497307692307695</td><td>10030.0</td><td>-245.0</td><td>10.968444444444446</td><td>0.0</td><td>10</td><td>508800000.0</td><td>0.1</td><td>0</td><td>-18.35386</td><td>-18.37094</td><td>-18.58492</td><td>-19.16556</td><td>-19.28665</td><td>-19.15123</td><td>-19.22748</td><td>-18.85474</td><td>-18.82977</td><td>-19.39062</td><td>-19.12536</td><td>8.5707</td><td>8.4769</td><td>8.72267</td><td>8.52185</td><td>0.1587</td><td>-0.17138</td><td>0.26124</td><td>0.2347</td><td>-8.35894</td><td>-8.88771</td><td>-8.21673</td><td>-8.287</td><td>1.5981634</td><td>226.50162</td><td>0.004000952</td><td>1.5985415</td><td>0.004009182</td><td>1.5985415</td><td>226.49648</td><td>1.547226</td><td>1.5752951</td><td>1.5965912</td><td>1.6176264</td><td>1.652233</td><td>27</td><td>3640.9819986374696</td><td>79157.48615416403</td><td>1150.471</td><td>6500</td><td>0.18273404</td><td>0.0040585846</td><td>0.26975456</td><td>0.008786425</td><td>0.31889814</td><td>0.010800019</td><td>0.26588404</td><td>0.015110642</td><td>12038.374485429873</td><td>8.930507970884136</td><td>-0.16172483687841568</td><td>-9.092232807762551</td><td>9.412724317247617</td><td>949372917.3784784</td><td>949372917.3784784</td><td>2757529804.683006</td><td>1352880490.328216</td><td>6319565074.4127445</td><td>2700727280.1328964</td><td>57953991.22018559</td><td>40344201.9805033</td><td>19256916.745079946</td><td>46568549.76439913</td><td>0.32944555604192577</td><td>0.03846124223190879</td><td>0.4302562381923336</td><td>8.898364297537782</td><td>8.91011749064355</td><td>8.929632868021246</td><td>8.950215725233164</td><td>8.968795821705879</td><td>-0.17745998414124425</td><td>-0.16998292332437162</td><td>-0.16005634897262627</td><td>-0.150568575432312</td><td>-0.14415436552985145</td><td>9.398323587311982</td><td>9.403908051602556</td><td>9.412721990655841</td><td>9.421356458756051</td><td>9.43278091527401</td><td>918984007.463151</td><td>932805548.8315926</td><td>952088770.1463355</td><td>970459451.9585984</td><td>983808135.0804516</td><td>918984007.463151</td><td>932805548.8315926</td><td>952088770.1463355</td><td>970459451.9585984</td><td>983808135.0804516</td><td>2687732458.429637</td><td>2722285397.623466</td><td>2765103672.239172</td><td>2809941568.9449916</td><td>2828693101.3871183</td><td>1297693945.304203</td><td>1314217827.2593288</td><td>1352767656.9434342</td><td>1389293122.848784</td><td>1434218099.6158025</td><td>6102408325.852877</td><td>6203722850.382797</td><td>6343117345.159264</td><td>6479741446.532549</td><td>6574571912.770534</td><td>2620011275.265672</td><td>2654557479.1509147</td><td>2710049340.199499</td><td>2755991054.366106</td><td>2793807986.41151</td><td>55891599.60101359</td><td>56862220.7101733</td><td>58177155.21878332</td><td>59462128.22980983</td><td>60346905.22290831</td><td>38908391.57075587</td><td>39584092.32768429</td><td>40499593.2331911</td><td>41394129.210998304</td><td>42010081.09073623</td><td>18571625.101649716</td><td>18894142.653205097</td><td>19331070.111815777</td><td>19758040.34669124</td><td>20052033.832393628</td><td>44911269.19053877</td><td>45691212.24827505</td><td>46747895.56447367</td><td>47780435.10709193</td><td>48491405.568467885</td><td>-9.140639037130589</td><td>-9.116661486025492</td><td>-9.089198622571061</td><td>-9.063886909450192</td><td>-9.050061837163787</td><td>0.03846124223190879</td><td>0.03846124223190879</td><td>0.03846124223190879</td><td>0.03846124223190879</td><td>0.03846124223190879</td></tr>\n",
       "<tr><td>964506</td><td>150.08666821386174</td><td>2.8770063501016185</td><td>23425.326578787157</td><td>38065.55975034872</td><td>0.006999638840502089</td><td>0.019554416791901095</td><td>150.0866727356659</td><td>2.876918429887079</td><td>283_5274</td><td>2353</td><td>15</td><td>0</td><td>PointSource</td><td>0</td><td>0</td><td>1</td><td>1</td><td>1</td><td>0.016273179214403046</td><td>0.014394261514338076</td><td>0.004692447901852247</td><td>28.5045265283324</td><td>0.3539438665128762</td><td>0.8844157709402526</td><td>0.026528504079743578</td><td>True</td><td>0.012379179261972767</td><td>0.005845478528112991</td><td>28.668270370077327</td><td>0.5126872741559382</td><td>0.6339018351945029</td><td>0.007745469501188841</td><td>True</td><td>0.01548027418172179</td><td>0.003526039362557429</td><td>28.425553378746137</td><td>0.2473049605187981</td><td>0.7573801200518164</td><td>0.02531904065292093</td><td>True</td><td>0.011976679672816185</td><td>0.004532620594495098</td><td>28.70415891472493</td><td>0.41090105240482494</td><td>0.6819570684666285</td><td>0.013875342070430603</td><td>True</td><td>0.0262527945775541</td><td>0.004687760109780012</td><td>27.852061149215356</td><td>0.19387158404693136</td><td>0.8228711885950057</td><td>0.043753165677193936</td><td>True</td><td>0.02662355112780261</td><td>0.0075558164575017595</td><td>27.836835043795855</td><td>0.3081340819275624</td><td>0.8813233628259871</td><td>0.033860640558945165</td><td>True</td><td>0.0445320207483405</td><td>0.01862972146277441</td><td>27.278318993143102</td><td>0.45421166021188303</td><td>0.8231809448873256</td><td>0.015035265922648656</td><td>True</td><td>--</td><td>--</td><td>--</td><td>--</td><td>--</td><td>--</td><td>False</td><td>--</td><td>--</td><td>--</td><td>--</td><td>--</td><td>--</td><td>False</td><td>--</td><td>--</td><td>--</td><td>--</td><td>--</td><td>--</td><td>False</td><td>--</td><td>--</td><td>--</td><td>--</td><td>--</td><td>--</td><td>False</td><td>--</td><td>--</td><td>--</td><td>--</td><td>--</td><td>--</td><td>False</td><td>0.01493275522492351</td><td>0.011196322202925626</td><td>28.464650134306957</td><td>0.8140662719472065</td><td>1.0397968462152474</td><td>0.023705174901643103</td><td>True</td><td>-0.06311694607775598</td><td>0.020391448810811962</td><td>--</td><td>--</td><td>0.9628635827708398</td><td>0.012971573350246783</td><td>True</td><td>-0.047105582049136834</td><td>0.011122630754415984</td><td>--</td><td>--</td><td>1.1179947850949015</td><td>0.042761156231891695</td><td>True</td><td>0.036062119796945576</td><td>0.014637009701408467</td><td>27.507371870610722</td><td>0.4406821188465239</td><td>0.7814869059120149</td><td>0.03766086931987977</td><td>True</td><td>-0.007897402664022161</td><td>0.009689022787889618</td><td>--</td><td>--</td><td>0.9634769567866658</td><td>0.009566226631477562</td><td>True</td><td>-0.015847577912015576</td><td>0.01906379273568817</td><td>--</td><td>--</td><td>0.7241267082174997</td><td>0.0072985422360617395</td><td>True</td><td>0.015649145530125017</td><td>0.011900836289169256</td><td>28.413773426712773</td><td>0.82567887180657</td><td>0.7077965141046321</td><td>0.01129125572089753</td><td>True</td><td>-0.038564813324591066</td><td>0.021088836862447054</td><td>--</td><td>--</td><td>0.7240731947636907</td><td>0.017165294354092853</td><td>True</td><td>0.00862812323531091</td><td>0.014261160677733633</td><td>29.060209151264573</td><td>1.794580124484098</td><td>0.6464142747703518</td><td>0.006347045399027377</td><td>True</td><td>0.03185114896375331</td><td>0.022269821191227</td><td>27.642187241946544</td><td>0.759129636683465</td><td>1.084899976680696</td><td>0.009903689800111751</td><td>True</td><td>-0.025279726172437633</td><td>0.021255408647894086</td><td>--</td><td>--</td><td>1.009259830588278</td><td>0.015030813100578251</td><td>True</td><td>-0.08809457692923388</td><td>0.023748613926129883</td><td>--</td><td>--</td><td>0.7826166785227529</td><td>0.022329928327775084</td><td>True</td><td>0.016819784983412595</td><td>0.02450610374651971</td><td>28.33544890082123</td><td>1.5818968019742732</td><td>0.9249922645794668</td><td>0.008490278900199058</td><td>True</td><td>-0.04486919716519459</td><td>0.016382701023639475</td><td>--</td><td>--</td><td>0.7771691880089624</td><td>0.00428646156139981</td><td>True</td><td>0.16926691189041712</td><td>0.018140603014247744</td><td>25.828569822504257</td><td>0.11636006853757871</td><td>0.23239840450175764</td><td>0.05503063551226999</td><td>True</td><td>0.1911585584896785</td><td>0.020196719188649116</td><td>25.69651563279099</td><td>0.11471267315312796</td><td>0.21172021259432391</td><td>0.10960970319224325</td><td>True</td><td>-1.5107660820485223</td><td>0.4712430704831994</td><td>--</td><td>--</td><td>0.31444758415638735</td><td>0.015499331815194462</td><td>True</td><td>-1.5646397812086748</td><td>0.47386994588808773</td><td>--</td><td>--</td><td>0.29710836092739945</td><td>0.01728708508115202</td><td>True</td><td>--</td><td>--</td><td>--</td><td>--</td><td>--</td><td>--</td><td>--</td><td>--</td><td>--</td><td>--</td><td>--</td><td>--</td><td>--</td><td>--</td><td>--</td><td>--</td><td>--</td><td>--</td><td>--</td><td>--</td><td>--</td><td>--</td><td>--</td><td>--</td><td>--</td><td>--</td><td>--</td><td>--</td><td>--</td><td>--</td><td>--</td><td>--</td><td>--</td><td>--</td><td>--</td><td>--</td><td>--</td><td>-99</td><td>1527478</td><td>--</td><td>0</td><td>2.1136</td><td>1.4486</td><td>3.9265</td><td>1.919</td><td>1.3273949999999999</td><td>1.41</td><td>1.3292199999999998</td><td>23</td><td>0.12</td><td>1.333055</td><td>10028.0</td><td>-178.0</td><td>1.7433857142857143</td><td>1.0</td><td>2</td><td>1278000000.0</td><td>0.0</td><td>0</td><td>-16.41761</td><td>-17.01023</td><td>-17.52925</td><td>-18.55544</td><td>-18.90807</td><td>-19.07019</td><td>-19.09428</td><td>-19.19844</td><td>-19.23933</td><td>-19.43237</td><td>-19.21527</td><td>8.90361</td><td>8.66938</td><td>9.06498</td><td>9.0175</td><td>0.22051</td><td>-0.12663</td><td>0.56244</td><td>-1.091</td><td>-8.67772</td><td>-9.1743</td><td>-8.10708</td><td>-10.11</td><td>1.4185072</td><td>110.06895</td><td>0.30097806</td><td>1.41078</td><td>0.30093703</td><td>1.4228641</td><td>110.07891</td><td>0.7846024</td><td>1.0977342</td><td>1.4230497</td><td>1.7262194</td><td>2.177376</td><td>23</td><td>3640.9819986374696</td><td>79157.48615416403</td><td>122.49334</td><td>2000</td><td>0.025291936</td><td>0.004259847</td><td>0.047743563</td><td>0.0154225025</td><td>0.07711279</td><td>0.020665804</td><td>0.18938243</td><td>0.024687454</td><td>10384.501060520115</td><td>8.942936861159119</td><td>-1.3789169595418997</td><td>-10.321853820701019</td><td>8.79471945530783</td><td>64097550.97715947</td><td>64097550.97715947</td><td>287776596.6687509</td><td>649952546.8526843</td><td>367231739.96503085</td><td>181880620.62807763</td><td>3381172.607887339</td><td>1670926.9833131984</td><td>1118926.9708529017</td><td>2612655.1421588194</td><td>1.4067515613585662</td><td>0.03267757040844596</td><td>2.224535886287243</td><td>8.863778242043075</td><td>8.913461027261725</td><td>8.946679970960252</td><td>8.977668672589443</td><td>9.004195993651079</td><td>-1.5610517459822084</td><td>-1.4705441254111875</td><td>-1.386774155962746</td><td>-1.3194439328282308</td><td>-1.2552552236304424</td><td>8.730935033199634</td><td>8.765494324691844</td><td>8.797903187467899</td><td>8.826582024745726</td><td>8.851230347646984</td><td>48868750.8274041</td><td>55462147.581171446</td><td>63039579.771189556</td><td>70752530.08765765</td><td>78796378.48721476</td><td>48868750.8274041</td><td>55462147.581171446</td><td>63039579.771189556</td><td>70752530.08765765</td><td>78796378.48721476</td><td>242158385.82601604</td><td>262266466.65925175</td><td>285218455.31256765</td><td>312502073.8406786</td><td>333344487.8121983</td><td>548737051.8575132</td><td>607896229.6972358</td><td>654916620.5508558</td><td>705826993.4182003</td><td>744714352.4328722</td><td>241527288.39869034</td><td>297423769.7643659</td><td>360668031.51525927</td><td>421078246.10810506</td><td>488117117.6634702</td><td>131644209.20707062</td><td>153372811.99227482</td><td>179026980.0303107</td><td>204653894.83287704</td><td>230117426.07748267</td><td>2222599.803649027</td><td>2737867.4172567916</td><td>3320467.4372561136</td><td>3877597.441272043</td><td>4495350.979122833</td><td>1098273.5968724592</td><td>1352965.217643495</td><td>1640903.712408954</td><td>1916309.5326390958</td><td>2221639.1642093714</td><td>735520.0516918838</td><td>906037.8980653726</td><td>1098837.441504689</td><td>1283209.25318911</td><td>1487642.45910803</td><td>1717319.9424661521</td><td>2115521.7755844668</td><td>2565725.3956628917</td><td>2996299.6505581154</td><td>3473684.45402196</td><td>-10.52219210112915</td><td>-10.418048961508873</td><td>-10.33242830915809</td><td>-10.24243103970062</td><td>-10.177259549763194</td><td>0.03267757040844596</td><td>0.03267757040844596</td><td>0.03267757040844596</td><td>0.03267757040844596</td><td>0.03267757040844596</td></tr>\n",
       "</table></div>"
      ],
      "text/plain": [
       "<Table length=2>\n",
       "  ID      ALPHA_J2000     ...      ez_Av_p840          ez_Av_p975    \n",
       "              deg         ...         mag                 mag        \n",
       "int64       float64       ...       float64             float64      \n",
       "------ ------------------ ... ------------------- -------------------\n",
       "     1 150.47759181348482 ... 0.03846124223190879 0.03846124223190879\n",
       "964506 150.08666821386174 ... 0.03267757040844596 0.03267757040844596"
      ]
     },
     "execution_count": 9,
     "metadata": {},
     "output_type": "execute_result"
    }
   ],
   "source": [
    "# Have a quick look inside the table\n",
    "cat0[[0,-1]]\n",
    "#at0[0]"
   ]
  },
  {
   "cell_type": "code",
   "execution_count": 10,
   "metadata": {},
   "outputs": [
    {
     "name": "stdout",
     "output_type": "stream",
     "text": [
      "The parent sample includes 964506 sources\n",
      "Now restricted to 746976 sources by using FLAG_COMBINED\n"
     ]
    }
   ],
   "source": [
    "whichflag = 'COMBINED'  # you can try HSC, SUPCAM, UVISTA, UDEEP, COMBINED\n",
    "print('The parent sample includes {} sources'.format(len(cat0)))\n",
    "cat0 = cat0[cat0['FLAG_{}'.format(whichflag)]==0]\n",
    "print('Now restricted to {} sources by using FLAG_COMBINED'.format(len(cat0)))"
   ]
  },
  {
   "cell_type": "code",
   "execution_count": 11,
   "metadata": {},
   "outputs": [],
   "source": [
    "def mw_corr(tab_in,f_dict,ebv_col='EBV_MW',flx_col='_FLUX',flxerr_col='_FLUXERR',only_filt=[],skip_filt=[],verbose=False,out=False):\n",
    "    \"\"\"\n",
    "    Parameters\n",
    "    ----------\n",
    "    tab_in : astropy table of COSMOS2020\n",
    "    f_dict : dictionary with filter info\n",
    "    ebv_col : name of the `tab_in` column containing the E(B-V) from Milky Way\n",
    "    flx_col : name of the `tab_in` column containing the flux\n",
    "    flxerr_col : name of the `tab_in` column containing the flux error bar\n",
    "    only_filt : list of the filters to be processed (filter names as in `f_dict`)\n",
    "    skip_filt : list of the filters NOT to be processed (filter names as in `f_dict`)\n",
    "    verbose : if True, print a verbose output\n",
    "    out : if True, return a new table with the changes; if False, overwrite `tab_in`\n",
    "    \"\"\"\n",
    "    \n",
    "    if 'FLUX' in flx_col: flux=True\n",
    "    else: flux=False\n",
    "    if out: tab = tab_in.copy()\n",
    "    else: tab = tab_in\n",
    "    ff = f_dict.keys()\n",
    "    if len(only_filt)>0 : ff = only_filt\n",
    "    for c in ff:\n",
    "        if verbose: print('remove MW attenuation in ',c+flx_col,f_dict[c][2])\n",
    "        if c not in skip_filt:\n",
    "            atten = f_dict[c][2]*tab[ebv_col]\n",
    "            if flux:    tab[c+flx_col] *= np.power(10.,0.4*atten)\n",
    "            else:    tab[c+flx_col] -= atten             \n",
    "        else:\n",
    "            if verbose: print('Skip filter',c)       \n",
    "    if out: return tab"
   ]
  },
  {
   "cell_type": "code",
   "execution_count": 12,
   "metadata": {},
   "outputs": [],
   "source": [
    "# Here, the function creates a new table but\n",
    "# it is also possible to overwrite the original table `cat0`\n",
    "if catversion.lower()=='classic' and flx!='_FLUX' and flx!='_MAG':  \n",
    "    # it means you are using aperture or AUTO flux/mag, which are not available for IRAC and GALEX \n",
    "    cat1 = mw_corr(cat0,filt_dict,flx_col=flx,flxerr_col=flxerr,only_filt=filt_use,skip_filt=['IRAC_CH1', 'IRAC_CH2', 'GALEX_FUV', 'GALEX_NUV'],out=True) # fluxes are  in uJy (zero point = 23.9)\n",
    "    # therefore, IRAC and GALEX have to be taken into account separately:\n",
    "    mw_corr(cat1,filt_dict,flx_col='_FLUX',flxerr_col='_FLUXERR',only_filt=['IRAC_CH1', 'IRAC_CH2', 'GALEX_FUV', 'GALEX_NUV']) \n",
    "else:\n",
    "    # otherwise, all filters have the same suffix\n",
    "    cat1 = mw_corr(cat0,filt_dict,flx_col=flx,flxerr_col=flxerr,only_filt=filt_use,out=True)  # all bands have same column suffix"
   ]
  },
  {
   "cell_type": "code",
   "execution_count": 13,
   "metadata": {},
   "outputs": [],
   "source": [
    "def aper_to_tot(tab_in,f_dict,flx_col='_FLUX',flxerr_col='_FLUXERR',scale_col='',out_col=None,only_filt=[],skip_filt=[],verbose=False,out=False):\n",
    "    \"\"\"\n",
    "    Parameters\n",
    "    ----------\n",
    "    tab_in : astropy table of COSMOS2020\n",
    "    f_dict : dictionary with filter info \n",
    "    flx_col : name of the `tab_in` column containing the flux\n",
    "    flxerr_col : name of the `tab_in` column containing the flux error bar\n",
    "    scale_col : name of the `tab_in` column containing the aper-to-total correction\n",
    "    out_col : if defined, the rescaled photometry will be saved in a new column (otherwise it overwrites `flx_col`)\n",
    "    only_filt : list of the filters to be processed (filter names as in `f_dict`)\n",
    "    skip_filt : list of the filters NOT to be processed (filter names as in `f_dict`)\n",
    "    verbose : if True, print a verbose output\n",
    "    out : if True, return a new table with the changes; if False, overwrite `tab_in`  \n",
    "    \"\"\"\n",
    "    \n",
    "    if 'FLUX' in flx_col: flux=True\n",
    "    else: flux=False\n",
    "    if out: tab = tab_in.copy()\n",
    "    else: tab = tab_in \n",
    "    ff = f_dict.keys()\n",
    "    if len(only_filt)>0 : ff = only_filt\n",
    "    for c in ff:\n",
    "        if c not in skip_filt:\n",
    "\n",
    "            if verbose and flux: print('rescale {} to total flux'.format(c+flx_col))\n",
    "            if verbose and not flux: print('rescale {} to total mag'.format(c+flx_col))\n",
    "\n",
    "            if flux:\n",
    "                resc = np.power(10.,-0.4*tab[scale_col])\n",
    "                if out_col:\n",
    "                    tab[c+out_col] = tab[c+flx_col] * resc\n",
    "                    tab[c+out_col+'ERR'] = tab[c+flxerr_col] * resc  # rescale also error bars not to alter the S/N ratio\n",
    "                else:\n",
    "                    tab[c+flx_col] *= resc\n",
    "                    tab[c+flxerr_col] *= resc\n",
    "            else:\n",
    "                if out_col:\n",
    "                    tab[c+out_col] = tab[c+flx_col] + tab[scale_col] \n",
    "                else:\n",
    "                    tab[c+flx_col] += tab[scale_col]             \n",
    "        else:\n",
    "            if verbose: print('Skip filter',c)       \n",
    "    if out: return tab\n",
    "    "
   ]
  },
  {
   "cell_type": "code",
   "execution_count": 14,
   "metadata": {},
   "outputs": [],
   "source": [
    "# Can be applied only to aperture photometry (not to AUTO or Farmer)\n",
    "if (flx[-1]=='2' or flx[-1]=='3'):\n",
    "    aper_to_tot(cat1,filt_dict,flx_col=flx,flxerr_col=flxerr,out_col='_FLUX',\n",
    "    only_filt=filt_use,skip_filt=['IRAC_CH1', 'IRAC_CH2', 'GALEX_FUV', 'GALEX_NUV'],\n",
    "    scale_col='total_off'+flx[-1],verbose=True)"
   ]
  },
  {
   "cell_type": "code",
   "execution_count": 15,
   "metadata": {},
   "outputs": [],
   "source": [
    "def photo_corr(tab_in,f_dict,versions=('Farmer','lp'),flx_col='_FLUX',only_filt=[],skip_filt=[],verbose=False,out=False):\n",
    "    \"\"\"\n",
    "    Parameters\n",
    "    ----------\n",
    "    tab_in : astropy table of COSMOS2020\n",
    "    f_dict : dictionary with filter info\n",
    "    ebv_col : name of the `tab_in` column containing the E(B-V) from Milky Way\n",
    "    flx_col : name of the `tab_in` column containing the flux\n",
    "    flxerr_col : name of the `tab_in` column containing the flux error bar\n",
    "    only_filt : list of the filters to be processed (filter names as in `f_dict`)\n",
    "    skip_filt : list of the filters NOT to be processed (filter names as in `f_dict`)\n",
    "    verbose : if True, print a verbose output\n",
    "    out : if True, return a new table with the changes; if False, overwrite `tab_in`\n",
    "    \"\"\"\n",
    "    if 'FLUX' in flx_col: flux=True\n",
    "    else: flux=False\n",
    "    if out: tab = tab_in.copy()\n",
    "    else: tab = tab_in\n",
    "    ff = f_dict.keys()\n",
    "    if len(only_filt)>0 : ff = only_filt\n",
    "    \n",
    "    if versions[0]=='Farmer' and versions[1]=='lp': v=0\n",
    "    elif versions[0]=='Farmer' and versions[1]=='ez': v=1\n",
    "    elif versions[0]=='Classic' and versions[1]=='lp': v=2\n",
    "    elif versions[0]=='Classic' and versions[1]=='ez': v=3\n",
    "    else: \n",
    "        print(\"ERROR: is this catalog version real?\", version)\n",
    "        return\n",
    "    \n",
    "    for c in ff:\n",
    "        if verbose: print(' apply photometric offset to ',c+flx_col)\n",
    "        offset = f_dict[c][3][v]\n",
    "        if c not in skip_filt and offset!=0.:\n",
    "            if flux:  tab[c+flx_col] *= np.power(10.,-0.4*offset)\n",
    "            else:  tab[c+flx_col] += offset              \n",
    "        else:\n",
    "            if verbose: print('Skip filter',c)       \n",
    "    if out: return tab"
   ]
  },
  {
   "cell_type": "code",
   "execution_count": 16,
   "metadata": {},
   "outputs": [],
   "source": [
    "photo_corr(cat1,filt_dict,only_filt=filt_use,versions=(catversion,fitversion))"
   ]
  },
  {
   "cell_type": "code",
   "execution_count": 17,
   "metadata": {},
   "outputs": [],
   "source": [
    "cat = cat1.copy()\n",
    "\n",
    "# j'ai renommé pour simplifier\n",
    "cat.rename_column('lp_zBEST', 'photoz') \n",
    "cat.rename_column('ALPHA_J2000','alpha')\n",
    "cat.rename_column('DELTA_J2000','delta')\n",
    "cat.rename_column('ez_z_phot','z')"
   ]
  },
  {
   "cell_type": "markdown",
   "metadata": {},
   "source": [
    "# SED"
   ]
  },
  {
   "cell_type": "code",
   "execution_count": 18,
   "metadata": {},
   "outputs": [],
   "source": [
    "### C'est bon, les données sont prêtes ###\n",
    "\n",
    "### !!! Etrange, je ne crois pas que les mag soient dans le système AB, la cellule pour la conversion\n",
    "### bug"
   ]
  },
  {
   "cell_type": "code",
   "execution_count": 19,
   "metadata": {},
   "outputs": [],
   "source": [
    "#test sur les masked array\n",
    "\n",
    "#a = cat[\"IRAC_CH1_FLUX\"]\n",
    "#b = cat[\"IRAC_CH1_MAG\"]\n",
    "\n",
    "#print(a.all([~a.mask],[~b.mask]))    #!!!!!!!!! c'est aussi simple que ça\n",
    "#print('a = ' , a)"
   ]
  },
  {
   "cell_type": "code",
   "execution_count": 20,
   "metadata": {},
   "outputs": [
    {
     "data": {
      "text/plain": [
       "(array([16344., 16891., 17094., 17346., 16963., 16766., 16237., 15572.,\n",
       "        14873., 14277., 13442., 12466., 11963., 11341., 10621., 10113.,\n",
       "         9469.,  8953.,  8413.,  8036.,  7713.,  7178.,  6801.,  6507.,\n",
       "         6176.,  5964.,  5550.,  5300.,  5150.,  4770.,  4780.,  4369.,\n",
       "         4170.,  3947.,  3917.,  3613.,  3574.,  3453.,  3345.,  3189.,\n",
       "         3182.,  3039.,  2885.,  2667.,  2643.,  2604.,  2504.,  2455.,\n",
       "         2318.,  2283.,  2286.,  2084.,  2163.,  2183.,  2030.,  1898.,\n",
       "         1929.,  1824.,  1803.,  1749.,  1632.,  1692.,  1601.,  1602.,\n",
       "         1557.,  1506.,  1462.,  1437.,  1346.,  1390.,  1361.,  1392.,\n",
       "         1346.,  1228.,  1279.,  1183.,  1231.,  1130.,  1162.,  1168.,\n",
       "         1132.,  1098.,  1090.,  1043.,  1053.,  1033.,   969.,   957.,\n",
       "         1003.,   940.,   943.,   918.,   891.,   885.,   873.,   869.,\n",
       "          876.,   799.,   864.,   809.,   850.,   756.,   828.,   728.,\n",
       "          789.,   718.,   736.,   703.,   730.,   729.,   693.,   716.,\n",
       "          624.,   667.,   624.,   636.,   638.,   612.,   680.,   645.,\n",
       "          640.,   597.,   566.,   539.,   571.,   579.,   523.,   601.,\n",
       "          556.,   553.,   561.,   561.,   506.,   512.,   487.,   508.,\n",
       "          496.,   522.,   478.,   491.,   462.,   402.,   450.,   463.,\n",
       "          465.,   463.,   452.,   448.,   459.,   403.,   415.,   408.,\n",
       "          422.,   469.,   427.,   408.,   418.,   411.,   426.,   382.,\n",
       "          380.,   389.,   436.,   353.,   395.,   370.,   395.,   386.,\n",
       "          364.,   341.,   318.,   379.,   364.,   369.,   382.,   334.,\n",
       "          358.,   339.,   340.,   342.,   370.,   342.,   340.,   295.,\n",
       "          303.,   310.,   297.,   310.,   293.,   279.,   319.,   305.,\n",
       "          272.,   300.,   315.,   293.,   303.,   304.,   290.,   284.]),\n",
       " array([0.   , 0.015, 0.03 , 0.045, 0.06 , 0.075, 0.09 , 0.105, 0.12 ,\n",
       "        0.135, 0.15 , 0.165, 0.18 , 0.195, 0.21 , 0.225, 0.24 , 0.255,\n",
       "        0.27 , 0.285, 0.3  , 0.315, 0.33 , 0.345, 0.36 , 0.375, 0.39 ,\n",
       "        0.405, 0.42 , 0.435, 0.45 , 0.465, 0.48 , 0.495, 0.51 , 0.525,\n",
       "        0.54 , 0.555, 0.57 , 0.585, 0.6  , 0.615, 0.63 , 0.645, 0.66 ,\n",
       "        0.675, 0.69 , 0.705, 0.72 , 0.735, 0.75 , 0.765, 0.78 , 0.795,\n",
       "        0.81 , 0.825, 0.84 , 0.855, 0.87 , 0.885, 0.9  , 0.915, 0.93 ,\n",
       "        0.945, 0.96 , 0.975, 0.99 , 1.005, 1.02 , 1.035, 1.05 , 1.065,\n",
       "        1.08 , 1.095, 1.11 , 1.125, 1.14 , 1.155, 1.17 , 1.185, 1.2  ,\n",
       "        1.215, 1.23 , 1.245, 1.26 , 1.275, 1.29 , 1.305, 1.32 , 1.335,\n",
       "        1.35 , 1.365, 1.38 , 1.395, 1.41 , 1.425, 1.44 , 1.455, 1.47 ,\n",
       "        1.485, 1.5  , 1.515, 1.53 , 1.545, 1.56 , 1.575, 1.59 , 1.605,\n",
       "        1.62 , 1.635, 1.65 , 1.665, 1.68 , 1.695, 1.71 , 1.725, 1.74 ,\n",
       "        1.755, 1.77 , 1.785, 1.8  , 1.815, 1.83 , 1.845, 1.86 , 1.875,\n",
       "        1.89 , 1.905, 1.92 , 1.935, 1.95 , 1.965, 1.98 , 1.995, 2.01 ,\n",
       "        2.025, 2.04 , 2.055, 2.07 , 2.085, 2.1  , 2.115, 2.13 , 2.145,\n",
       "        2.16 , 2.175, 2.19 , 2.205, 2.22 , 2.235, 2.25 , 2.265, 2.28 ,\n",
       "        2.295, 2.31 , 2.325, 2.34 , 2.355, 2.37 , 2.385, 2.4  , 2.415,\n",
       "        2.43 , 2.445, 2.46 , 2.475, 2.49 , 2.505, 2.52 , 2.535, 2.55 ,\n",
       "        2.565, 2.58 , 2.595, 2.61 , 2.625, 2.64 , 2.655, 2.67 , 2.685,\n",
       "        2.7  , 2.715, 2.73 , 2.745, 2.76 , 2.775, 2.79 , 2.805, 2.82 ,\n",
       "        2.835, 2.85 , 2.865, 2.88 , 2.895, 2.91 , 2.925, 2.94 , 2.955,\n",
       "        2.97 , 2.985, 3.   ]),\n",
       " <BarContainer object of 200 artists>)"
      ]
     },
     "execution_count": 20,
     "metadata": {},
     "output_type": "execute_result"
    },
    {
     "data": {
      "image/png": "[encoded data removed]",
      "text/plain": [
       "<Figure size 432x288 with 1 Axes>"
      ]
     },
     "metadata": {
      "needs_background": "light"
     },
     "output_type": "display_data"
    }
   ],
   "source": [
    "flux = cat['IRAC_CH1_FLUX']\n",
    "non_zero_flux = flux[flux != 0.0000e+00]  # Filtrer les valeurs non nulles\n",
    "\n",
    "plt.hist(flux, bins=200 , range=[0,3]) #éhéhéhé il suffit de changer d'échelle"
   ]
  },
  {
   "cell_type": "code",
   "execution_count": 21,
   "metadata": {},
   "outputs": [
    {
     "data": {
      "text/plain": [
       "masked"
      ]
     },
     "execution_count": 21,
     "metadata": {},
     "output_type": "execute_result"
    }
   ],
   "source": [
    "#expérimentations sur la copie et le tri\n",
    "\n",
    "cat['IRAC_CH1_FLUX'] #on a cat[\"name\"] une liste, il faut ainsi garder la trace via [] final\n",
    "\n",
    "# Copier le tableau 'cat' dans 'cat_tri'\n",
    "cat_tri = cat.copy()\n",
    "\n",
    "# Trier le tableau 'cat_tri' en utilisant la colonne 'IRAC_CH1_FLUX' comme clé de tri\n",
    "cat_tri.sort('IRAC_CH1_FLUX', reverse=True)\n",
    "\n",
    "cat_tri['IRAC_CH1_FLUX'][0]  #résultats négatifs, pas forcément un problème si ?"
   ]
  },
  {
   "cell_type": "code",
   "execution_count": 22,
   "metadata": {},
   "outputs": [
    {
     "name": "stdout",
     "output_type": "stream",
     "text": [
      "   IRAC_CH1_FLUX   \n",
      "        uJy        \n",
      "-------------------\n",
      "                 --\n",
      "                 --\n",
      "                 --\n",
      "                 --\n",
      "                 --\n",
      "                 --\n",
      "                 --\n",
      "                 --\n",
      "                 --\n",
      "                 --\n",
      "                ...\n",
      " -86.13730310451152\n",
      "  -87.7471985012584\n",
      " -94.75740722871923\n",
      "  -95.0227990111825\n",
      " -96.29625218355767\n",
      "  -97.2638407830704\n",
      " -100.1361066351096\n",
      "-101.30936291818665\n",
      "-101.64275994470907\n",
      "-107.09839079956316\n",
      "Length = 746976 rows\n"
     ]
    },
    {
     "data": {
      "image/png": "[encoded data removed]",
      "text/plain": [
       "<Figure size 432x288 with 1 Axes>"
      ]
     },
     "metadata": {
      "needs_background": "light"
     },
     "output_type": "display_data"
    },
    {
     "data": {
      "image/png": "[encoded data removed]",
      "text/plain": [
       "<Figure size 432x288 with 1 Axes>"
      ]
     },
     "metadata": {
      "needs_background": "light"
     },
     "output_type": "display_data"
    }
   ],
   "source": [
    "# 1er test SUD FLUX\n",
    "\n",
    "# étape 1, trier par ordre décroissant les flux\n",
    "# on prend pour référence IRAC_CH1 (arbitraire)\n",
    "# on copie cat vers une nouvelle version qui sera trier\n",
    "\n",
    "cat_decr_IRAC_CH1 = cat.copy()  # copie pour conserver cat\n",
    "\n",
    "cat_decr_IRAC_CH1.sort('IRAC_CH1_FLUX' , reverse=True)  #trie avec IRAC_CH1_FLUX comme clé, décroissant\n",
    "\n",
    "cat_decr_IRAC_CH1\n",
    "\n",
    "print(cat_decr_IRAC_CH1['IRAC_CH1_FLUX'])\n",
    "\n",
    "plt.hist(cat_decr_IRAC_CH1['IRAC_CH1_MAG'] , bins=250)  #faire un histo des flux\n",
    "plt.title(\"Histogramme des IRAC_CH1_MAG\")\n",
    "plt.show()\n",
    "\n",
    "plt.hist(cat_decr_IRAC_CH1['IRAC_CH1_FLUX'] , bins=250 , range=[0,4])\n",
    "plt.title(\"Histogramme des IRAC_CH1_FLUX\")\n",
    "plt.show()"
   ]
  },
  {
   "cell_type": "code",
   "execution_count": 23,
   "metadata": {},
   "outputs": [
    {
     "data": {
      "text/html": [
       "<div><i>Table length=2</i>\n",
       "<table id=\"table140391297536208\" class=\"table-striped table-bordered table-condensed\">\n",
       "<thead><tr><th>ID</th><th>alpha</th><th>delta</th><th>X_MODEL</th><th>Y_MODEL</th><th>ERRX_MODEL</th><th>ERRY_MODEL</th><th>ALPHA_DETECTION</th><th>DELTA_DETECTION</th><th>FARMER_ID</th><th>GROUP_ID</th><th>N_GROUP</th><th>MODEL_FLAG</th><th>SOLUTION_MODEL</th><th>FLAG_HSC</th><th>FLAG_SUPCAM</th><th>FLAG_UDEEP</th><th>FLAG_UVISTA</th><th>FLAG_COMBINED</th><th>EBV_MW</th><th>CFHT_u_FLUX</th><th>CFHT_u_FLUXERR</th><th>CFHT_u_MAG</th><th>CFHT_u_MAGERR</th><th>CFHT_u_CHISQ</th><th>CFHT_u_DRIFT</th><th>CFHT_u_VALID</th><th>CFHT_ustar_FLUX</th><th>CFHT_ustar_FLUXERR</th><th>CFHT_ustar_MAG</th><th>CFHT_ustar_MAGERR</th><th>CFHT_ustar_CHISQ</th><th>CFHT_ustar_DRIFT</th><th>CFHT_ustar_VALID</th><th>HSC_g_FLUX</th><th>HSC_g_FLUXERR</th><th>HSC_g_MAG</th><th>HSC_g_MAGERR</th><th>HSC_g_CHISQ</th><th>HSC_g_DRIFT</th><th>HSC_g_VALID</th><th>HSC_r_FLUX</th><th>HSC_r_FLUXERR</th><th>HSC_r_MAG</th><th>HSC_r_MAGERR</th><th>HSC_r_CHISQ</th><th>HSC_r_DRIFT</th><th>HSC_r_VALID</th><th>HSC_i_FLUX</th><th>HSC_i_FLUXERR</th><th>HSC_i_MAG</th><th>HSC_i_MAGERR</th><th>HSC_i_CHISQ</th><th>HSC_i_DRIFT</th><th>HSC_i_VALID</th><th>HSC_z_FLUX</th><th>HSC_z_FLUXERR</th><th>HSC_z_MAG</th><th>HSC_z_MAGERR</th><th>HSC_z_CHISQ</th><th>HSC_z_DRIFT</th><th>HSC_z_VALID</th><th>HSC_y_FLUX</th><th>HSC_y_FLUXERR</th><th>HSC_y_MAG</th><th>HSC_y_MAGERR</th><th>HSC_y_CHISQ</th><th>HSC_y_DRIFT</th><th>HSC_y_VALID</th><th>UVISTA_Y_FLUX</th><th>UVISTA_Y_FLUXERR</th><th>UVISTA_Y_MAG</th><th>UVISTA_Y_MAGERR</th><th>UVISTA_Y_CHISQ</th><th>UVISTA_Y_DRIFT</th><th>UVISTA_Y_VALID</th><th>UVISTA_J_FLUX</th><th>UVISTA_J_FLUXERR</th><th>UVISTA_J_MAG</th><th>UVISTA_J_MAGERR</th><th>UVISTA_J_CHISQ</th><th>UVISTA_J_DRIFT</th><th>UVISTA_J_VALID</th><th>UVISTA_H_FLUX</th><th>UVISTA_H_FLUXERR</th><th>UVISTA_H_MAG</th><th>UVISTA_H_MAGERR</th><th>UVISTA_H_CHISQ</th><th>UVISTA_H_DRIFT</th><th>UVISTA_H_VALID</th><th>UVISTA_Ks_FLUX</th><th>UVISTA_Ks_FLUXERR</th><th>UVISTA_Ks_MAG</th><th>UVISTA_Ks_MAGERR</th><th>UVISTA_Ks_CHISQ</th><th>UVISTA_Ks_DRIFT</th><th>UVISTA_Ks_VALID</th><th>UVISTA_NB118_FLUX</th><th>UVISTA_NB118_FLUXERR</th><th>UVISTA_NB118_MAG</th><th>UVISTA_NB118_MAGERR</th><th>UVISTA_NB118_CHISQ</th><th>UVISTA_NB118_DRIFT</th><th>UVISTA_NB118_VALID</th><th>SC_IB427_FLUX</th><th>SC_IB427_FLUXERR</th><th>SC_IB427_MAG</th><th>SC_IB427_MAGERR</th><th>SC_IB427_CHISQ</th><th>SC_IB427_DRIFT</th><th>SC_IB427_VALID</th><th>SC_IB464_FLUX</th><th>SC_IB464_FLUXERR</th><th>SC_IB464_MAG</th><th>SC_IB464_MAGERR</th><th>SC_IB464_CHISQ</th><th>SC_IB464_DRIFT</th><th>SC_IB464_VALID</th><th>SC_IA484_FLUX</th><th>SC_IA484_FLUXERR</th><th>SC_IA484_MAG</th><th>SC_IA484_MAGERR</th><th>SC_IA484_CHISQ</th><th>SC_IA484_DRIFT</th><th>SC_IA484_VALID</th><th>SC_IB505_FLUX</th><th>SC_IB505_FLUXERR</th><th>SC_IB505_MAG</th><th>SC_IB505_MAGERR</th><th>SC_IB505_CHISQ</th><th>SC_IB505_DRIFT</th><th>SC_IB505_VALID</th><th>SC_IA527_FLUX</th><th>SC_IA527_FLUXERR</th><th>SC_IA527_MAG</th><th>SC_IA527_MAGERR</th><th>SC_IA527_CHISQ</th><th>SC_IA527_DRIFT</th><th>SC_IA527_VALID</th><th>SC_IB574_FLUX</th><th>SC_IB574_FLUXERR</th><th>SC_IB574_MAG</th><th>SC_IB574_MAGERR</th><th>SC_IB574_CHISQ</th><th>SC_IB574_DRIFT</th><th>SC_IB574_VALID</th><th>SC_IA624_FLUX</th><th>SC_IA624_FLUXERR</th><th>SC_IA624_MAG</th><th>SC_IA624_MAGERR</th><th>SC_IA624_CHISQ</th><th>SC_IA624_DRIFT</th><th>SC_IA624_VALID</th><th>SC_IA679_FLUX</th><th>SC_IA679_FLUXERR</th><th>SC_IA679_MAG</th><th>SC_IA679_MAGERR</th><th>SC_IA679_CHISQ</th><th>SC_IA679_DRIFT</th><th>SC_IA679_VALID</th><th>SC_IB709_FLUX</th><th>SC_IB709_FLUXERR</th><th>SC_IB709_MAG</th><th>SC_IB709_MAGERR</th><th>SC_IB709_CHISQ</th><th>SC_IB709_DRIFT</th><th>SC_IB709_VALID</th><th>SC_IA738_FLUX</th><th>SC_IA738_FLUXERR</th><th>SC_IA738_MAG</th><th>SC_IA738_MAGERR</th><th>SC_IA738_CHISQ</th><th>SC_IA738_DRIFT</th><th>SC_IA738_VALID</th><th>SC_IA767_FLUX</th><th>SC_IA767_FLUXERR</th><th>SC_IA767_MAG</th><th>SC_IA767_MAGERR</th><th>SC_IA767_CHISQ</th><th>SC_IA767_DRIFT</th><th>SC_IA767_VALID</th><th>SC_IB827_FLUX</th><th>SC_IB827_FLUXERR</th><th>SC_IB827_MAG</th><th>SC_IB827_MAGERR</th><th>SC_IB827_CHISQ</th><th>SC_IB827_DRIFT</th><th>SC_IB827_VALID</th><th>SC_NB711_FLUX</th><th>SC_NB711_FLUXERR</th><th>SC_NB711_MAG</th><th>SC_NB711_MAGERR</th><th>SC_NB711_CHISQ</th><th>SC_NB711_DRIFT</th><th>SC_NB711_VALID</th><th>SC_NB816_FLUX</th><th>SC_NB816_FLUXERR</th><th>SC_NB816_MAG</th><th>SC_NB816_MAGERR</th><th>SC_NB816_CHISQ</th><th>SC_NB816_DRIFT</th><th>SC_NB816_VALID</th><th>IRAC_CH1_FLUX</th><th>IRAC_CH1_FLUXERR</th><th>IRAC_CH1_MAG</th><th>IRAC_CH1_MAGERR</th><th>IRAC_CH1_CHISQ</th><th>IRAC_CH1_DRIFT</th><th>IRAC_CH1_VALID</th><th>IRAC_CH2_FLUX</th><th>IRAC_CH2_FLUXERR</th><th>IRAC_CH2_MAG</th><th>IRAC_CH2_MAGERR</th><th>IRAC_CH2_CHISQ</th><th>IRAC_CH2_DRIFT</th><th>IRAC_CH2_VALID</th><th>IRAC_CH3_FLUX</th><th>IRAC_CH3_FLUXERR</th><th>IRAC_CH3_MAG</th><th>IRAC_CH3_MAGERR</th><th>IRAC_CH3_CHISQ</th><th>IRAC_CH3_DRIFT</th><th>IRAC_CH3_VALID</th><th>IRAC_CH4_FLUX</th><th>IRAC_CH4_FLUXERR</th><th>IRAC_CH4_MAG</th><th>IRAC_CH4_MAGERR</th><th>IRAC_CH4_CHISQ</th><th>IRAC_CH4_DRIFT</th><th>IRAC_CH4_VALID</th><th>ID_GALEX</th><th>GALEX_NUV_FLUX</th><th>GALEX_NUV_FLUXERR</th><th>GALEX_NUV_MAG</th><th>GALEX_NUV_MAGERR</th><th>GALEX_FUV_FLUX</th><th>GALEX_FUV_FLUXERR</th><th>GALEX_FUV_MAG</th><th>GALEX_FUV_MAGERR</th><th>ID_COSMOS2015</th><th>SPLASH_CH1_FLUX</th><th>SPLASH_CH1_FLUXERR</th><th>SPLASH_CH1_MAG</th><th>SPLASH_CH1_MAGERR</th><th>SPLASH_CH2_FLUX</th><th>SPLASH_CH2_FLUXERR</th><th>SPLASH_CH2_MAG</th><th>SPLASH_CH2_MAGERR</th><th>SPLASH_CH3_FLUX</th><th>SPLASH_CH3_FLUXERR</th><th>SPLASH_CH3_MAG</th><th>SPLASH_CH3_MAGERR</th><th>SPLASH_CH4_FLUX</th><th>SPLASH_CH4_FLUXERR</th><th>SPLASH_CH4_MAG</th><th>SPLASH_CH4_MAGERR</th><th>ID_ACS</th><th>ACS_F814W_MAG</th><th>ACS_F814W_MAGERR</th><th>ACS_F814W_FLUX</th><th>ACS_F814W_FLUXERR</th><th>ACS_A_WORLD</th><th>ACS_B_WORLD</th><th>ACS_THETA_WORLD</th><th>ACS_FWHM_WORLD</th><th>ACS_MU_MAX</th><th>ACS_MU_CLASS</th><th>ID_CHANDRA</th><th>ID_CLASSIC</th><th>photoz</th><th>lp_type</th><th>lp_zPDF</th><th>lp_zPDF_l68</th><th>lp_zPDF_u68</th><th>lp_zMinChi2</th><th>lp_chi2_best</th><th>lp_zp_2</th><th>lp_chi2_2</th><th>lp_NbFilt</th><th>lp_zq</th><th>lp_chiq</th><th>lp_modq</th><th>lp_mods</th><th>lp_chis</th><th>lp_mask</th><th>lp_model</th><th>lp_age</th><th>lp_dust</th><th>lp_Attenuation</th><th>lp_MFUV</th><th>lp_MNUV</th><th>lp_MU</th><th>lp_MG</th><th>lp_MR</th><th>lp_MI</th><th>lp_MZ</th><th>lp_MY</th><th>lp_MJ</th><th>lp_MH</th><th>lp_MK</th><th>lp_mass_med</th><th>lp_mass_med_min68</th><th>lp_mass_med_max68</th><th>lp_mass_best</th><th>lp_SFR_med</th><th>lp_SFR_med_min68</th><th>lp_SFR_med_max68</th><th>lp_SFR_best</th><th>lp_sSFR_med</th><th>lp_sSFR_med_min68</th><th>lp_sSFR_med_max68</th><th>lp_sSFR_best</th><th>z</th><th>ez_z_phot_chi2</th><th>ez_z_phot_risk</th><th>ez_z_min_risk</th><th>ez_min_risk</th><th>ez_z_raw_chi2</th><th>ez_raw_chi2</th><th>ez_z025</th><th>ez_z160</th><th>ez_z500</th><th>ez_z840</th><th>ez_z975</th><th>ez_nusefilt</th><th>ez_lc_min</th><th>ez_lc_max</th><th>ez_star_min_chi2</th><th>ez_star_teff</th><th>ez_restU</th><th>ez_restU_err</th><th>ez_restB</th><th>ez_restB_err</th><th>ez_restV</th><th>ez_restV_err</th><th>ez_restJ</th><th>ez_restJ_err</th><th>ez_dL</th><th>ez_mass</th><th>ez_sfr</th><th>ez_ssfr</th><th>ez_Lv</th><th>ez_LIR</th><th>ez_energy_abs</th><th>ez_Lu</th><th>ez_Lj</th><th>ez_L1400</th><th>ez_L2800</th><th>ez_LHa</th><th>ez_LOIII</th><th>ez_LHb</th><th>ez_LOII</th><th>ez_MLv</th><th>ez_Av</th><th>ez_lwAgeV</th><th>ez_mass_p025</th><th>ez_mass_p160</th><th>ez_mass_p500</th><th>ez_mass_p840</th><th>ez_mass_p975</th><th>ez_sfr_p025</th><th>ez_sfr_p160</th><th>ez_sfr_p500</th><th>ez_sfr_p840</th><th>ez_sfr_p975</th><th>ez_Lv_p025</th><th>ez_Lv_p160</th><th>ez_Lv_p500</th><th>ez_Lv_p840</th><th>ez_Lv_p975</th><th>ez_LIR_p025</th><th>ez_LIR_p160</th><th>ez_LIR_p500</th><th>ez_LIR_p840</th><th>ez_LIR_p975</th><th>ez_energy_abs_p025</th><th>ez_energy_abs_p160</th><th>ez_energy_abs_p500</th><th>ez_energy_abs_p840</th><th>ez_energy_abs_p975</th><th>ez_Lu_p025</th><th>ez_Lu_p160</th><th>ez_Lu_p500</th><th>ez_Lu_p840</th><th>ez_Lu_p975</th><th>ez_Lj_p025</th><th>ez_Lj_p160</th><th>ez_Lj_p500</th><th>ez_Lj_p840</th><th>ez_Lj_p975</th><th>ez_L1400_p025</th><th>ez_L1400_p160</th><th>ez_L1400_p500</th><th>ez_L1400_p840</th><th>ez_L1400_p975</th><th>ez_L2800_p025</th><th>ez_L2800_p160</th><th>ez_L2800_p500</th><th>ez_L2800_p840</th><th>ez_L2800_p975</th><th>ez_LHa_p025</th><th>ez_LHa_p160</th><th>ez_LHa_p500</th><th>ez_LHa_p840</th><th>ez_LHa_p975</th><th>ez_LOIII_p025</th><th>ez_LOIII_p160</th><th>ez_LOIII_p500</th><th>ez_LOIII_p840</th><th>ez_LOIII_p975</th><th>ez_LHb_p025</th><th>ez_LHb_p160</th><th>ez_LHb_p500</th><th>ez_LHb_p840</th><th>ez_LHb_p975</th><th>ez_LOII_p025</th><th>ez_LOII_p160</th><th>ez_LOII_p500</th><th>ez_LOII_p840</th><th>ez_LOII_p975</th><th>ez_ssfr_p025</th><th>ez_ssfr_p160</th><th>ez_ssfr_p500</th><th>ez_ssfr_p840</th><th>ez_ssfr_p975</th><th>ez_Av_p025</th><th>ez_Av_p160</th><th>ez_Av_p500</th><th>ez_Av_p840</th><th>ez_Av_p975</th></tr></thead>\n",
       "<thead><tr><th></th><th>deg</th><th>deg</th><th>pix</th><th>pix</th><th>pix</th><th>pix</th><th>deg</th><th>deg</th><th></th><th></th><th></th><th></th><th></th><th></th><th></th><th></th><th></th><th></th><th></th><th>uJy</th><th>uJy</th><th>mag</th><th>mag</th><th></th><th>arcsec</th><th></th><th>uJy</th><th>uJy</th><th>mag</th><th>mag</th><th></th><th>arcsec</th><th></th><th>uJy</th><th>uJy</th><th>mag</th><th>mag</th><th></th><th>arcsec</th><th></th><th>uJy</th><th>uJy</th><th>mag</th><th>mag</th><th></th><th>arcsec</th><th></th><th>uJy</th><th>uJy</th><th>mag</th><th>mag</th><th></th><th>arcsec</th><th></th><th>uJy</th><th>uJy</th><th>mag</th><th>mag</th><th></th><th>arcsec</th><th></th><th>uJy</th><th>uJy</th><th>mag</th><th>mag</th><th></th><th>arcsec</th><th></th><th>uJy</th><th>uJy</th><th>mag</th><th>mag</th><th></th><th>arcsec</th><th></th><th>uJy</th><th>uJy</th><th>mag</th><th>mag</th><th></th><th>arcsec</th><th></th><th>uJy</th><th>uJy</th><th>mag</th><th>mag</th><th></th><th>arcsec</th><th></th><th>uJy</th><th>uJy</th><th>mag</th><th>mag</th><th></th><th>arcsec</th><th></th><th>uJy</th><th>uJy</th><th>mag</th><th>mag</th><th></th><th>arcsec</th><th></th><th>uJy</th><th>uJy</th><th>mag</th><th>mag</th><th></th><th>arcsec</th><th></th><th>uJy</th><th>uJy</th><th>mag</th><th>mag</th><th></th><th>arcsec</th><th></th><th>uJy</th><th>uJy</th><th>mag</th><th>mag</th><th></th><th>arcsec</th><th></th><th>uJy</th><th>uJy</th><th>mag</th><th>mag</th><th></th><th>arcsec</th><th></th><th>uJy</th><th>uJy</th><th>mag</th><th>mag</th><th></th><th>arcsec</th><th></th><th>uJy</th><th>uJy</th><th>mag</th><th>mag</th><th></th><th>arcsec</th><th></th><th>uJy</th><th>uJy</th><th>mag</th><th>mag</th><th></th><th>arcsec</th><th></th><th>uJy</th><th>uJy</th><th>mag</th><th>mag</th><th></th><th>arcsec</th><th></th><th>uJy</th><th>uJy</th><th>mag</th><th>mag</th><th></th><th>arcsec</th><th></th><th>uJy</th><th>uJy</th><th>mag</th><th>mag</th><th></th><th>arcsec</th><th></th><th>uJy</th><th>uJy</th><th>mag</th><th>mag</th><th></th><th>arcsec</th><th></th><th>uJy</th><th>uJy</th><th>mag</th><th>mag</th><th></th><th>arcsec</th><th></th><th>uJy</th><th>uJy</th><th>mag</th><th>mag</th><th></th><th>arcsec</th><th></th><th>uJy</th><th>uJy</th><th>mag</th><th>mag</th><th></th><th>arcsec</th><th></th><th>uJy</th><th>uJy</th><th>mag</th><th>mag</th><th></th><th>arcsec</th><th></th><th>uJy</th><th>uJy</th><th>mag</th><th>mag</th><th></th><th>arcsec</th><th></th><th>uJy</th><th>uJy</th><th>mag</th><th>mag</th><th></th><th>arcsec</th><th></th><th>uJy</th><th>uJy</th><th>mag</th><th>mag</th><th></th><th>arcsec</th><th></th><th></th><th>uJy</th><th>uJy</th><th>mag</th><th>mag</th><th>uJy</th><th>uJy</th><th>mag</th><th>mag</th><th></th><th>uJy</th><th>uJy</th><th>mag</th><th>mag</th><th>uJy</th><th>uJy</th><th>mag</th><th>mag</th><th>uJy</th><th>uJy</th><th>mag</th><th>mag</th><th>uJy</th><th>uJy</th><th>mag</th><th>mag</th><th></th><th>mag</th><th>mag</th><th>uJy</th><th>uJy</th><th>deg</th><th>deg</th><th>deg</th><th>deg</th><th></th><th></th><th></th><th></th><th></th><th></th><th></th><th></th><th></th><th></th><th></th><th></th><th></th><th></th><th></th><th></th><th></th><th></th><th></th><th></th><th></th><th>yr</th><th></th><th></th><th>mag</th><th>mag</th><th>mag</th><th>mag</th><th>mag</th><th>mag</th><th>mag</th><th>mag</th><th>mag</th><th>mag</th><th>mag</th><th>log(solMass)</th><th>log(solMass)</th><th>log(solMass)</th><th>log(solMass)</th><th>log(solMass/yr)</th><th>log(solMass/yr)</th><th>log(solMass/yr)</th><th>log(solMass/yr)</th><th>log(yr**(-1))</th><th>log(yr**(-1))</th><th>log(yr**(-1))</th><th>log(yr**(-1))</th><th></th><th></th><th></th><th></th><th></th><th></th><th></th><th></th><th></th><th></th><th></th><th></th><th></th><th>Angstrom</th><th>Angstrom</th><th></th><th>K</th><th>uJy</th><th>uJy</th><th>uJy</th><th>uJy</th><th>uJy</th><th>uJy</th><th>uJy</th><th>uJy</th><th>Mpc</th><th>log(solMass)</th><th>log(solMass/yr)</th><th>log(yr**(-1))</th><th>log(solLum)</th><th>solLum</th><th>solLum</th><th>solLum</th><th>solLum</th><th>solLum</th><th>solLum</th><th>solLum</th><th>solLum</th><th>solLum</th><th>solLum</th><th>solMass / solLum</th><th>mag</th><th>Gyr</th><th>log(solMass)</th><th>log(solMass)</th><th>log(solMass)</th><th>log(solMass)</th><th>log(solMass)</th><th>log(solMass/yr)</th><th>log(solMass/yr)</th><th>log(solMass/yr)</th><th>log(solMass/yr)</th><th>log(solMass/yr)</th><th>log(solLum)</th><th>log(solLum)</th><th>log(solLum)</th><th>log(solLum)</th><th>log(solLum)</th><th>solLum</th><th>solLum</th><th>solLum</th><th>solLum</th><th>solLum</th><th>solLum</th><th>solLum</th><th>solLum</th><th>solLum</th><th>solLum</th><th>solLum</th><th>solLum</th><th>solLum</th><th>solLum</th><th>solLum</th><th>solLum</th><th>solLum</th><th>solLum</th><th>solLum</th><th>solLum</th><th>solLum</th><th>solLum</th><th>solLum</th><th>solLum</th><th>solLum</th><th>solLum</th><th>solLum</th><th>solLum</th><th>solLum</th><th>solLum</th><th>solLum</th><th>solLum</th><th>solLum</th><th>solLum</th><th>solLum</th><th>solLum</th><th>solLum</th><th>solLum</th><th>solLum</th><th>solLum</th><th>solLum</th><th>solLum</th><th>solLum</th><th>solLum</th><th>solLum</th><th>solLum</th><th>solLum</th><th>solLum</th><th>solLum</th><th>solLum</th><th>log(yr**(-1))</th><th>log(yr**(-1))</th><th>log(yr**(-1))</th><th>log(yr**(-1))</th><th>log(yr**(-1))</th><th>mag</th><th>mag</th><th>mag</th><th>mag</th><th>mag</th></tr></thead>\n",
       "<thead><tr><th>int64</th><th>float64</th><th>float64</th><th>float64</th><th>float64</th><th>float64</th><th>float64</th><th>float64</th><th>float64</th><th>bytes8</th><th>int64</th><th>int64</th><th>int16</th><th>bytes20</th><th>int16</th><th>int16</th><th>int16</th><th>int16</th><th>int64</th><th>float64</th><th>float64</th><th>float64</th><th>float64</th><th>float64</th><th>float64</th><th>float64</th><th>bool</th><th>float64</th><th>float64</th><th>float64</th><th>float64</th><th>float64</th><th>float64</th><th>bool</th><th>float64</th><th>float64</th><th>float64</th><th>float64</th><th>float64</th><th>float64</th><th>bool</th><th>float64</th><th>float64</th><th>float64</th><th>float64</th><th>float64</th><th>float64</th><th>bool</th><th>float64</th><th>float64</th><th>float64</th><th>float64</th><th>float64</th><th>float64</th><th>bool</th><th>float64</th><th>float64</th><th>float64</th><th>float64</th><th>float64</th><th>float64</th><th>bool</th><th>float64</th><th>float64</th><th>float64</th><th>float64</th><th>float64</th><th>float64</th><th>bool</th><th>float64</th><th>float64</th><th>float64</th><th>float64</th><th>float64</th><th>float64</th><th>bool</th><th>float64</th><th>float64</th><th>float64</th><th>float64</th><th>float64</th><th>float64</th><th>bool</th><th>float64</th><th>float64</th><th>float64</th><th>float64</th><th>float64</th><th>float64</th><th>bool</th><th>float64</th><th>float64</th><th>float64</th><th>float64</th><th>float64</th><th>float64</th><th>bool</th><th>float64</th><th>float64</th><th>float64</th><th>float64</th><th>float64</th><th>float64</th><th>bool</th><th>float64</th><th>float64</th><th>float64</th><th>float64</th><th>float64</th><th>float64</th><th>bool</th><th>float64</th><th>float64</th><th>float64</th><th>float64</th><th>float64</th><th>float64</th><th>bool</th><th>float64</th><th>float64</th><th>float64</th><th>float64</th><th>float64</th><th>float64</th><th>bool</th><th>float64</th><th>float64</th><th>float64</th><th>float64</th><th>float64</th><th>float64</th><th>bool</th><th>float64</th><th>float64</th><th>float64</th><th>float64</th><th>float64</th><th>float64</th><th>bool</th><th>float64</th><th>float64</th><th>float64</th><th>float64</th><th>float64</th><th>float64</th><th>bool</th><th>float64</th><th>float64</th><th>float64</th><th>float64</th><th>float64</th><th>float64</th><th>bool</th><th>float64</th><th>float64</th><th>float64</th><th>float64</th><th>float64</th><th>float64</th><th>bool</th><th>float64</th><th>float64</th><th>float64</th><th>float64</th><th>float64</th><th>float64</th><th>bool</th><th>float64</th><th>float64</th><th>float64</th><th>float64</th><th>float64</th><th>float64</th><th>bool</th><th>float64</th><th>float64</th><th>float64</th><th>float64</th><th>float64</th><th>float64</th><th>bool</th><th>float64</th><th>float64</th><th>float64</th><th>float64</th><th>float64</th><th>float64</th><th>bool</th><th>float64</th><th>float64</th><th>float64</th><th>float64</th><th>float64</th><th>float64</th><th>bool</th><th>float64</th><th>float64</th><th>float64</th><th>float64</th><th>float64</th><th>float64</th><th>bool</th><th>float64</th><th>float64</th><th>float64</th><th>float64</th><th>float64</th><th>float64</th><th>bool</th><th>float64</th><th>float64</th><th>float64</th><th>float64</th><th>float64</th><th>float64</th><th>bool</th><th>float64</th><th>float64</th><th>float64</th><th>float64</th><th>float64</th><th>float64</th><th>bool</th><th>float64</th><th>float64</th><th>float64</th><th>float64</th><th>float64</th><th>float64</th><th>bool</th><th>int64</th><th>float64</th><th>float64</th><th>float64</th><th>float64</th><th>float64</th><th>float64</th><th>float64</th><th>float64</th><th>int64</th><th>float32</th><th>float32</th><th>float32</th><th>float32</th><th>float32</th><th>float32</th><th>float32</th><th>float32</th><th>float32</th><th>float32</th><th>float32</th><th>float32</th><th>float32</th><th>float32</th><th>float32</th><th>float32</th><th>int64</th><th>float32</th><th>float32</th><th>float64</th><th>float64</th><th>float32</th><th>float32</th><th>float32</th><th>float32</th><th>float32</th><th>int16</th><th>bytes9</th><th>int64</th><th>float64</th><th>int64</th><th>float64</th><th>float64</th><th>float64</th><th>float64</th><th>float64</th><th>float64</th><th>float64</th><th>int64</th><th>float64</th><th>float64</th><th>float64</th><th>float64</th><th>float64</th><th>float64</th><th>int64</th><th>float64</th><th>float64</th><th>int64</th><th>float64</th><th>float64</th><th>float64</th><th>float64</th><th>float64</th><th>float64</th><th>float64</th><th>float64</th><th>float64</th><th>float64</th><th>float64</th><th>float64</th><th>float64</th><th>float64</th><th>float64</th><th>float64</th><th>float64</th><th>float64</th><th>float64</th><th>float64</th><th>float64</th><th>float64</th><th>float64</th><th>float32</th><th>float32</th><th>float32</th><th>float32</th><th>float32</th><th>float32</th><th>float32</th><th>float32</th><th>float32</th><th>float32</th><th>float32</th><th>float32</th><th>int64</th><th>float64</th><th>float64</th><th>float32</th><th>int64</th><th>float32</th><th>float32</th><th>float32</th><th>float32</th><th>float32</th><th>float32</th><th>float32</th><th>float32</th><th>float64</th><th>float64</th><th>float64</th><th>float64</th><th>float64</th><th>float64</th><th>float64</th><th>float64</th><th>float64</th><th>float64</th><th>float64</th><th>float64</th><th>float64</th><th>float64</th><th>float64</th><th>float64</th><th>float64</th><th>float64</th><th>float64</th><th>float64</th><th>float64</th><th>float64</th><th>float64</th><th>float64</th><th>float64</th><th>float64</th><th>float64</th><th>float64</th><th>float64</th><th>float64</th><th>float64</th><th>float64</th><th>float64</th><th>float64</th><th>float64</th><th>float64</th><th>float64</th><th>float64</th><th>float64</th><th>float64</th><th>float64</th><th>float64</th><th>float64</th><th>float64</th><th>float64</th><th>float64</th><th>float64</th><th>float64</th><th>float64</th><th>float64</th><th>float64</th><th>float64</th><th>float64</th><th>float64</th><th>float64</th><th>float64</th><th>float64</th><th>float64</th><th>float64</th><th>float64</th><th>float64</th><th>float64</th><th>float64</th><th>float64</th><th>float64</th><th>float64</th><th>float64</th><th>float64</th><th>float64</th><th>float64</th><th>float64</th><th>float64</th><th>float64</th><th>float64</th><th>float64</th><th>float64</th><th>float64</th><th>float64</th><th>float64</th><th>float64</th><th>float64</th><th>float64</th><th>float64</th><th>float64</th><th>float64</th><th>float64</th><th>float64</th><th>float64</th><th>float64</th><th>float64</th><th>float64</th><th>float64</th><th>float64</th></tr></thead>\n",
       "<tr><td>1</td><td>150.47759181348482</td><td>2.3289280599580477</td><td>14051.03358364209</td><td>24912.03402844628</td><td>0.019431534427515957</td><td>0.011544643878550745</td><td>150.4776383231628</td><td>2.3289634472602443</td><td>181_32</td><td>1</td><td>3</td><td>0</td><td>PointSource</td><td>0</td><td>0</td><td>0</td><td>0</td><td>0</td><td>0.01465764190485742</td><td>0.14286775124802997</td><td>0.004186348828360162</td><td>26.08912376226729</td><td>0.03413573340311204</td><td>1.0407767328556528</td><td>0.027646698062667008</td><td>True</td><td>0.14485867931159782</td><td>0.0035667690958343825</td><td>26.01314851480203</td><td>0.02711806647221036</td><td>0.9685395910155029</td><td>0.03444138817482245</td><td>True</td><td>0.13474227381787196</td><td>0.003468267307233093</td><td>26.00232701879578</td><td>0.02610764445434329</td><td>0.848472786680386</td><td>0.014466979113070499</td><td>True</td><td>0.14795410512313217</td><td>0.004804885971761918</td><td>25.88747794885955</td><td>0.03253857916841798</td><td>0.7599689837708691</td><td>0.006504326802302385</td><td>True</td><td>0.13897415135565863</td><td>0.0045610206599078235</td><td>25.977980207050848</td><td>0.033572094912539</td><td>0.9389547725420019</td><td>0.017352698683492384</td><td>True</td><td>0.1544836461716344</td><td>0.006886879564422909</td><td>25.866000049367496</td><td>0.04572427498922839</td><td>0.7657624995795921</td><td>0.04906046262364291</td><td>True</td><td>0.1994404297588877</td><td>0.01512743701028521</td><td>25.569492615881003</td><td>0.07643402315428267</td><td>0.7977963703082677</td><td>0.05283966674854424</td><td>True</td><td>0.21946170496144551</td><td>0.010935296985526243</td><td>25.515382847534763</td><td>0.05256637649632315</td><td>0.2987936928735843</td><td>0.02834895398098417</td><td>True</td><td>0.3429547118943917</td><td>0.012955112496925438</td><td>25.049718843881003</td><td>0.04055580685667258</td><td>0.6351952791175003</td><td>0.004111921485483275</td><td>True</td><td>0.3908203241443346</td><td>0.016259644938874593</td><td>24.972338716176218</td><td>0.047399183889559236</td><td>0.6248054179947405</td><td>0.049155260749718044</td><td>True</td><td>0.32536508304140976</td><td>0.0216464934093371</td><td>25.12442267867283</td><td>0.0725906934118854</td><td>0.58266714036932</td><td>0.10596386247227135</td><td>True</td><td>0.264649240672339</td><td>0.048536052333105845</td><td>25.343323369355467</td><td>0.19912148291153664</td><td>0.48579206299492733</td><td>0.0404929775210692</td><td>True</td><td>0.12265377232121773</td><td>0.012002042775295138</td><td>26.178297725388894</td><td>0.10624257310298353</td><td>0.6278423086833566</td><td>0.05099123882545416</td><td>True</td><td>0.32528287484598584</td><td>0.021563623918011025</td><td>25.119347000999667</td><td>0.07197552962066685</td><td>1.0969510799959201</td><td>0.06840265519129378</td><td>True</td><td>0.11717008417340785</td><td>0.01092360337920414</td><td>26.227958145215926</td><td>0.10122167069255963</td><td>0.7996434376906069</td><td>0.0552865967121589</td><td>True</td><td>0.19633633407272758</td><td>0.015595583731393947</td><td>25.667498305672638</td><td>0.0862432823322403</td><td>0.6909970612795022</td><td>0.06525836218154457</td><td>True</td><td>0.10509973608628591</td><td>0.010498184500685152</td><td>26.345995936295083</td><td>0.10845183271694091</td><td>0.7899601539931926</td><td>0.02639075690034151</td><td>True</td><td>0.08930174536736066</td><td>0.017550320774001794</td><td>26.52285013228574</td><td>0.21337789749870872</td><td>0.8314370646472216</td><td>0.07611726959517705</td><td>True</td><td>0.1474863716739975</td><td>0.0123619798160566</td><td>25.978120270913323</td><td>0.09100399512471176</td><td>0.7400929284298298</td><td>0.08188074892984638</td><td>True</td><td>0.2005783039777775</td><td>0.02091113386360916</td><td>25.64429011313837</td><td>0.11319257700364058</td><td>0.8408656272203845</td><td>0.07289505439342082</td><td>True</td><td>0.07689637223616926</td><td>0.014003646215268404</td><td>26.685235371399447</td><td>0.1977240961100832</td><td>1.0632350098511638</td><td>0.08629349492046443</td><td>True</td><td>0.1022434784236474</td><td>0.017195708217431632</td><td>26.375910959522813</td><td>0.18260336273735683</td><td>0.6663162421227017</td><td>0.046484736342266166</td><td>True</td><td>0.12097149470695527</td><td>0.023117495863087662</td><td>26.193292383091375</td><td>0.20748278164787742</td><td>0.7641191644774722</td><td>0.043747187973555555</td><td>True</td><td>0.05538423690829383</td><td>0.024098219666449865</td><td>27.041534559201473</td><td>0.4724143731618494</td><td>0.6272917381740954</td><td>0.01743251455427397</td><td>True</td><td>0.19647386294665534</td><td>0.022899831650800225</td><td>25.666738039850326</td><td>0.12654699171304296</td><td>0.8042757996326378</td><td>0.09248100983451468</td><td>True</td><td>0.12683088648382715</td><td>0.01577181116555489</td><td>26.141937430093563</td><td>0.13501463934997435</td><td>0.6147455235460056</td><td>0.034777212163907716</td><td>True</td><td>0.21685357580232817</td><td>0.012499986182277434</td><td>25.64897272604736</td><td>0.0679552388573966</td><td>0.21149472337354372</td><td>0.037128924948865764</td><td>True</td><td>0.3598437371349937</td><td>0.010825896424508907</td><td>25.12235678475934</td><td>0.03623521992776386</td><td>0.1906264034277216</td><td>0.10238376726077482</td><td>True</td><td>1.2574702478240287</td><td>0.45415898261688675</td><td>23.651255704265985</td><td>0.3921340095294853</td><td>0.44267511152479816</td><td>0.01791143947840182</td><td>True</td><td>-2.4508326710259687</td><td>0.48378225302556194</td><td>--</td><td>--</td><td>0.5946840994268447</td><td>0.015020699773979056</td><td>True</td><td>491771</td><td>--</td><td>--</td><td>--</td><td>--</td><td>0.11415147742679674</td><td>0.054074867546652874</td><td>26.256296158</td><td>0.515871823</td><td>677258</td><td>0.3012683</td><td>0.05304416</td><td>25.202616</td><td>0.19116504</td><td>0.32055002</td><td>0.031115286</td><td>25.13526</td><td>0.1053907</td><td>0.0</td><td>3.2342541</td><td>--</td><td>--</td><td>0.0</td><td>3.3057573</td><td>--</td><td>--</td><td>1214917</td><td>25.791597</td><td>0.15976603</td><td>0.025693155186338457</td><td>0.17513012886047363</td><td>4.2482912e-05</td><td>2.3616954e-05</td><td>23.322468</td><td>0.00018533519</td><td>23.252491</td><td>1</td><td>-99</td><td>958884</td><td>1.593</td><td>0</td><td>1.593</td><td>1.514</td><td>1.6732</td><td>1.581</td><td>1.8967115384615385</td><td>--</td><td>--</td><td>29</td><td>2.21</td><td>4.9497307692307695</td><td>10030.0</td><td>-245.0</td><td>10.968444444444446</td><td>0.0</td><td>10</td><td>508800000.0</td><td>0.1</td><td>0</td><td>-18.35386</td><td>-18.37094</td><td>-18.58492</td><td>-19.16556</td><td>-19.28665</td><td>-19.15123</td><td>-19.22748</td><td>-18.85474</td><td>-18.82977</td><td>-19.39062</td><td>-19.12536</td><td>8.5707</td><td>8.4769</td><td>8.72267</td><td>8.52185</td><td>0.1587</td><td>-0.17138</td><td>0.26124</td><td>0.2347</td><td>-8.35894</td><td>-8.88771</td><td>-8.21673</td><td>-8.287</td><td>1.5981634</td><td>226.50162</td><td>0.004000952</td><td>1.5985415</td><td>0.004009182</td><td>1.5985415</td><td>226.49648</td><td>1.547226</td><td>1.5752951</td><td>1.5965912</td><td>1.6176264</td><td>1.652233</td><td>27</td><td>3640.9819986374696</td><td>79157.48615416403</td><td>1150.471</td><td>6500</td><td>0.18273404</td><td>0.0040585846</td><td>0.26975456</td><td>0.008786425</td><td>0.31889814</td><td>0.010800019</td><td>0.26588404</td><td>0.015110642</td><td>12038.374485429873</td><td>8.930507970884136</td><td>-0.16172483687841568</td><td>-9.092232807762551</td><td>9.412724317247617</td><td>949372917.3784784</td><td>949372917.3784784</td><td>2757529804.683006</td><td>1352880490.328216</td><td>6319565074.4127445</td><td>2700727280.1328964</td><td>57953991.22018559</td><td>40344201.9805033</td><td>19256916.745079946</td><td>46568549.76439913</td><td>0.32944555604192577</td><td>0.03846124223190879</td><td>0.4302562381923336</td><td>8.898364297537782</td><td>8.91011749064355</td><td>8.929632868021246</td><td>8.950215725233164</td><td>8.968795821705879</td><td>-0.17745998414124425</td><td>-0.16998292332437162</td><td>-0.16005634897262627</td><td>-0.150568575432312</td><td>-0.14415436552985145</td><td>9.398323587311982</td><td>9.403908051602556</td><td>9.412721990655841</td><td>9.421356458756051</td><td>9.43278091527401</td><td>918984007.463151</td><td>932805548.8315926</td><td>952088770.1463355</td><td>970459451.9585984</td><td>983808135.0804516</td><td>918984007.463151</td><td>932805548.8315926</td><td>952088770.1463355</td><td>970459451.9585984</td><td>983808135.0804516</td><td>2687732458.429637</td><td>2722285397.623466</td><td>2765103672.239172</td><td>2809941568.9449916</td><td>2828693101.3871183</td><td>1297693945.304203</td><td>1314217827.2593288</td><td>1352767656.9434342</td><td>1389293122.848784</td><td>1434218099.6158025</td><td>6102408325.852877</td><td>6203722850.382797</td><td>6343117345.159264</td><td>6479741446.532549</td><td>6574571912.770534</td><td>2620011275.265672</td><td>2654557479.1509147</td><td>2710049340.199499</td><td>2755991054.366106</td><td>2793807986.41151</td><td>55891599.60101359</td><td>56862220.7101733</td><td>58177155.21878332</td><td>59462128.22980983</td><td>60346905.22290831</td><td>38908391.57075587</td><td>39584092.32768429</td><td>40499593.2331911</td><td>41394129.210998304</td><td>42010081.09073623</td><td>18571625.101649716</td><td>18894142.653205097</td><td>19331070.111815777</td><td>19758040.34669124</td><td>20052033.832393628</td><td>44911269.19053877</td><td>45691212.24827505</td><td>46747895.56447367</td><td>47780435.10709193</td><td>48491405.568467885</td><td>-9.140639037130589</td><td>-9.116661486025492</td><td>-9.089198622571061</td><td>-9.063886909450192</td><td>-9.050061837163787</td><td>0.03846124223190879</td><td>0.03846124223190879</td><td>0.03846124223190879</td><td>0.03846124223190879</td><td>0.03846124223190879</td></tr>\n",
       "<tr><td>964453</td><td>150.20120247620304</td><td>1.7877673034617472</td><td>--</td><td>--</td><td>--</td><td>--</td><td>150.20150735436732</td><td>1.7877681024324195</td><td>246_5176</td><td>1938</td><td>33</td><td>2</td><td>PointSource</td><td>0</td><td>0</td><td>0</td><td>0</td><td>0</td><td>0.01566134608267684</td><td>--</td><td>--</td><td>--</td><td>--</td><td>--</td><td>--</td><td>True</td><td>--</td><td>--</td><td>--</td><td>--</td><td>--</td><td>--</td><td>True</td><td>--</td><td>--</td><td>--</td><td>--</td><td>--</td><td>--</td><td>True</td><td>--</td><td>--</td><td>--</td><td>--</td><td>--</td><td>--</td><td>True</td><td>--</td><td>--</td><td>--</td><td>--</td><td>--</td><td>--</td><td>True</td><td>--</td><td>--</td><td>--</td><td>--</td><td>--</td><td>--</td><td>True</td><td>--</td><td>--</td><td>--</td><td>--</td><td>--</td><td>--</td><td>True</td><td>--</td><td>--</td><td>--</td><td>--</td><td>--</td><td>--</td><td>True</td><td>--</td><td>--</td><td>--</td><td>--</td><td>--</td><td>--</td><td>True</td><td>--</td><td>--</td><td>--</td><td>--</td><td>--</td><td>--</td><td>True</td><td>--</td><td>--</td><td>--</td><td>--</td><td>--</td><td>--</td><td>True</td><td>--</td><td>--</td><td>--</td><td>--</td><td>--</td><td>--</td><td>True</td><td>--</td><td>--</td><td>--</td><td>--</td><td>--</td><td>--</td><td>True</td><td>--</td><td>--</td><td>--</td><td>--</td><td>--</td><td>--</td><td>True</td><td>--</td><td>--</td><td>--</td><td>--</td><td>--</td><td>--</td><td>True</td><td>--</td><td>--</td><td>--</td><td>--</td><td>--</td><td>--</td><td>True</td><td>--</td><td>--</td><td>--</td><td>--</td><td>--</td><td>--</td><td>True</td><td>--</td><td>--</td><td>--</td><td>--</td><td>--</td><td>--</td><td>True</td><td>--</td><td>--</td><td>--</td><td>--</td><td>--</td><td>--</td><td>True</td><td>--</td><td>--</td><td>--</td><td>--</td><td>--</td><td>--</td><td>True</td><td>--</td><td>--</td><td>--</td><td>--</td><td>--</td><td>--</td><td>True</td><td>--</td><td>--</td><td>--</td><td>--</td><td>--</td><td>--</td><td>True</td><td>--</td><td>--</td><td>--</td><td>--</td><td>--</td><td>--</td><td>True</td><td>--</td><td>--</td><td>--</td><td>--</td><td>--</td><td>--</td><td>True</td><td>--</td><td>--</td><td>--</td><td>--</td><td>--</td><td>--</td><td>True</td><td>--</td><td>--</td><td>--</td><td>--</td><td>--</td><td>--</td><td>True</td><td>--</td><td>--</td><td>--</td><td>--</td><td>--</td><td>--</td><td>True</td><td>--</td><td>--</td><td>--</td><td>--</td><td>--</td><td>--</td><td>True</td><td>--</td><td>--</td><td>--</td><td>--</td><td>--</td><td>--</td><td>True</td><td>--</td><td>--</td><td>--</td><td>--</td><td>--</td><td>--</td><td>True</td><td>--</td><td>--</td><td>--</td><td>--</td><td>--</td><td>--</td><td>--</td><td>--</td><td>--</td><td>--</td><td>--</td><td>--</td><td>--</td><td>--</td><td>--</td><td>--</td><td>--</td><td>--</td><td>--</td><td>--</td><td>--</td><td>--</td><td>--</td><td>--</td><td>--</td><td>--</td><td>--</td><td>--</td><td>--</td><td>--</td><td>--</td><td>--</td><td>--</td><td>--</td><td>--</td><td>--</td><td>--</td><td>-99</td><td>--</td><td>--</td><td>--</td><td>--</td><td>--</td><td>--</td><td>--</td><td>--</td><td>--</td><td>--</td><td>--</td><td>--</td><td>--</td><td>--</td><td>--</td><td>--</td><td>--</td><td>--</td><td>--</td><td>--</td><td>--</td><td>--</td><td>--</td><td>--</td><td>--</td><td>--</td><td>--</td><td>--</td><td>--</td><td>--</td><td>--</td><td>--</td><td>--</td><td>--</td><td>--</td><td>--</td><td>--</td><td>--</td><td>--</td><td>--</td><td>--</td><td>--</td><td>--</td><td>--</td><td>--</td><td>--</td><td>--</td><td>--</td><td>--</td><td>--</td><td>--</td><td>--</td><td>--</td><td>--</td><td>--</td><td>--</td><td>--</td><td>--</td><td>--</td><td>--</td><td>--</td><td>--</td><td>--</td><td>--</td><td>--</td><td>--</td><td>--</td><td>--</td><td>--</td><td>--</td><td>--</td><td>--</td><td>--</td><td>--</td><td>--</td><td>--</td><td>--</td><td>--</td><td>--</td><td>--</td><td>--</td><td>--</td><td>--</td><td>--</td><td>--</td><td>--</td><td>--</td><td>--</td><td>--</td><td>--</td><td>--</td><td>--</td><td>--</td><td>--</td><td>--</td><td>--</td><td>--</td><td>--</td><td>--</td><td>--</td><td>--</td><td>--</td><td>--</td><td>--</td><td>--</td><td>--</td><td>--</td><td>--</td><td>--</td><td>--</td><td>--</td><td>--</td><td>--</td><td>--</td><td>--</td><td>--</td><td>--</td><td>--</td><td>--</td><td>--</td><td>--</td><td>--</td><td>--</td><td>--</td><td>--</td><td>--</td><td>--</td><td>--</td><td>--</td><td>--</td><td>--</td><td>--</td><td>--</td><td>--</td><td>--</td><td>--</td><td>--</td><td>--</td><td>--</td><td>--</td><td>--</td><td>--</td><td>--</td><td>--</td><td>--</td><td>--</td><td>--</td><td>--</td><td>--</td><td>--</td><td>--</td><td>--</td><td>--</td><td>--</td><td>--</td><td>--</td><td>--</td><td>--</td><td>--</td><td>--</td><td>--</td><td>--</td></tr>\n",
       "</table></div>"
      ],
      "text/plain": [
       "<Table length=2>\n",
       "  ID         alpha        ...      ez_Av_p840          ez_Av_p975    \n",
       "              deg         ...         mag                 mag        \n",
       "int64       float64       ...       float64             float64      \n",
       "------ ------------------ ... ------------------- -------------------\n",
       "     1 150.47759181348482 ... 0.03846124223190879 0.03846124223190879\n",
       "964453 150.20120247620304 ...                  --                  --"
      ]
     },
     "execution_count": 23,
     "metadata": {},
     "output_type": "execute_result"
    }
   ],
   "source": [
    "# C'est ici en amont qu'il faut enlever les valeurs masquées\n",
    "\n",
    "for i in filt_name:\n",
    "    if i+'_FLUX' in cat.keys():\n",
    "        mask_i = cat_decr_IRAC_CH1[i+'_FLUX'].mask\n",
    "        cat_decr_IRAC_CH1 = cat_decr_IRAC_CH1[~mask_i]\n",
    "\n",
    "cat[[0,-1]]"
   ]
  },
  {
   "cell_type": "code",
   "execution_count": 24,
   "metadata": {},
   "outputs": [],
   "source": [
    "# étape 2 , faire les graphes en flux\n",
    "\n",
    "# Création de l'objet PdfPages pour sauvegarder les graphes dans un fichier PDF\n",
    "with PdfPages('SED_flux.pdf') as pdf:\n",
    "\n",
    "    for j in range(100):  #quand ça marche il faudra mettre 100\n",
    "\n",
    "        wave_len , flux , flux_err = [] , [] , []\n",
    "        empty_key , used_key = [] , []\n",
    "        \n",
    "        for i in filt_name:\n",
    "            if i+'_FLUX' in cat.keys():\n",
    "                used_key.append(i+'_FLUX')\n",
    "                wave_len.append(filt_dict[i][0])  #simplement pour avoir un nombre, 2eme colonne bizarre\n",
    "                flux.append(cat_decr_IRAC_CH1[i+'_FLUX'][j])\n",
    "                flux_err.append(cat_decr_IRAC_CH1[i+'_FLUXERR'][j])\n",
    "            else:\n",
    "                empty_key.append(i+'_FLUX')\n",
    "\n",
    "        #print('flux\\n',flux,'\\n'\n",
    "\n",
    "        fig = plt.figure(figsize=(10, 7))\n",
    "        plt.errorbar(np.array(wave_len)*0.0001, flux, yerr=flux_err, linestyle='None', marker='.' , ecolor='red') # conversion en microns\n",
    "        plt.xscale('log')\n",
    "        plt.yscale('log')\n",
    "        plt.xlabel(\"$\\lambda$\\nen $\\mu$m\")\n",
    "        plt.xticks([0.1,1,10,100])\n",
    "        plt.ylabel(\"flux\\nu J Y\")\n",
    "        plt.title(\"SED flux en fonction de $\\lambda$\\ngalaxie {}\".format(j+1))\n",
    "        #plt.show()\n",
    "\n",
    "        #print(\"Clés utilisées : \" , used_key)\n",
    "        #print(\"Clés non utilisées : \" , empty_key,'\\n\\n')\n",
    "\n",
    "        pdf.savefig(fig)\n",
    "        plt.close(fig)  # Fermeture explicite de la figure pour libérer la mémoire"
   ]
  },
  {
   "cell_type": "code",
   "execution_count": 25,
   "metadata": {},
   "outputs": [
    {
     "name": "stderr",
     "output_type": "stream",
     "text": [
      "/var/folders/m9/6n_lcytd4t91nnk_cnjfycrw0000gp/T/ipykernel_10906/2480915872.py:22: UserWarning: Warning: converting a masked element to nan.\n",
      "  plt.errorbar(np.array(wave_len)*0.0001, np.array(mag), yerr=np.array(mag_err), linestyle='None', marker='.' , ecolor='red')\n"
     ]
    }
   ],
   "source": [
    "# Etape 3 , faire les graphes en mag AB\n",
    "\n",
    "# Création de l'objet PdfPages pour sauvegarder les graphes dans un fichier PDF\n",
    "with PdfPages('SED_mag_AB.pdf') as pdf:\n",
    "\n",
    "    for j in range(100):\n",
    "\n",
    "        wave_len , mag , mag_err = [] , [] , []\n",
    "        empty_key , used_key = [] , []\n",
    "\n",
    "        for i in filt_name:\n",
    "            if i+'_MAG' in cat.keys():\n",
    "                used_key.append(i+'_MAG')\n",
    "                wave_len.append(filt_dict[i][0])  #simplement pour avoir un nombre, 2eme colonne bizarre\n",
    "                mag.append(cat_decr_IRAC_CH1[i+'_MAG'][j])\n",
    "                mag_err.append(cat_decr_IRAC_CH1[i+'_MAGERR'][j])\n",
    "            else:\n",
    "                empty_key.append(i+'_MAG')\n",
    "\n",
    "        #print('flux\\n',flux,'\\n')\n",
    "        fig = plt.figure(figsize=(10, 7))\n",
    "        plt.errorbar(np.array(wave_len)*0.0001, np.array(mag), yerr=np.array(mag_err), linestyle='None', marker='.' , ecolor='red')\n",
    "        plt.xscale('log')\n",
    "        plt.yscale('log')\n",
    "        plt.xlabel(\"$\\lambda$\\nen $\\mu$m\")\n",
    "        plt.xticks([0.1,1,10,100])\n",
    "        plt.ylabel(\"mag AB\")\n",
    "        plt.title(\"SED mag AB en fonction de $\\lambda$\\ngalaxie {}\".format(j+1))\n",
    "        #plt.show()\n",
    "\n",
    "        #print(\"Clés utilisées : \" , used_key)\n",
    "        #print(\"Clés non utilisées : \" , empty_key,'\\n\\n')\n",
    "\n",
    "        pdf.savefig(fig)\n",
    "        plt.close(fig)  # Fermeture explicite de la figure pour libérer la mémoire"
   ]
  },
  {
   "cell_type": "code",
   "execution_count": 26,
   "metadata": {},
   "outputs": [],
   "source": [
    "### Pour trier cat selon les z croissants\n",
    "\n",
    "cat_croiss_z = cat.copy()  # copie pour conserver cat\n",
    "\n",
    "cat_croiss_z.sort('z' , reverse=False)  #trie avec z comme clé, croissant"
   ]
  },
  {
   "cell_type": "code",
   "execution_count": 28,
   "metadata": {},
   "outputs": [],
   "source": [
    "# SED pour z dans [2 , 2.3] , flux\n",
    "\n",
    "#Filtre des valeurs masquées\n",
    "for i in filt_name:\n",
    "        if i+'_FLUX' in cat_croiss_z.keys():\n",
    "            mask_i = cat_croiss_z[i+'_FLUX'].mask\n",
    "            cat_croiss_z = cat_croiss_z[~mask_i]\n",
    "\n",
    "# Graphes\n",
    "\n",
    "# Création de l'objet PdfPages pour sauvegarder les graphes dans un fichier PDF\n",
    "with PdfPages('SED_flux_z_2_2.3.pdf') as pdf:\n",
    "\n",
    "    for j in cat_croiss_z[\"z\"]:\n",
    "\n",
    "        wave_len , flux , flux_err = [] , [] , []\n",
    "        empty_key , used_key = [] , []\n",
    "        \n",
    "        if (j>2) and (j<2.3):\n",
    "            for i in filt_name:\n",
    "                if i+'_FLUX' in cat_croiss_z.keys():\n",
    "                    used_key.append(i+'_FLUX')\n",
    "                    #wave_len.append(filt_dict[i][0])  #simplement pour avoir un nombre, 2eme colonne bizarre\n",
    "                    indices = np.where(cat_croiss_z[\"z\"] == j)[0]\n",
    "                    wave_len.extend(filt_dict[i][0] for k in indices)\n",
    "                    flux.extend(cat_croiss_z[i+'_FLUX'][indices])\n",
    "                    flux_err.extend(cat_croiss_z[i+'_FLUXERR'][indices])\n",
    "                else:\n",
    "                    empty_key.append(i+'_FLUX')\n",
    "\n",
    "\n",
    "            fig = plt.figure(figsize=(10, 7))\n",
    "            plt.errorbar(wave_len, flux, yerr=flux_err, linestyle='None', marker='.' , ecolor='red')\n",
    "            plt.xscale('log')\n",
    "            plt.yscale('log')\n",
    "            plt.xlabel(\"$\\lambda$\")\n",
    "            plt.ylabel(\"flux\\nu J Y\")\n",
    "            plt.title(\"SED flux en fonction de $\\lambda$\\nz = {}\".format(j))\n",
    "            #plt.show()\n",
    "\n",
    "            pdf.savefig(fig)\n",
    "            plt.close(fig)  # Fermeture explicite de la figure pour libérer la mémoire"
   ]
  },
  {
   "cell_type": "code",
   "execution_count": 29,
   "metadata": {},
   "outputs": [],
   "source": [
    "# SED pour z dans [2 , 2.3] , mag AB\n",
    "\n",
    "#Filtre des valeurs masquées\n",
    "for i in filt_name:\n",
    "        if i+'_MAG' in cat_croiss_z.keys():\n",
    "            mask_i = cat_croiss_z[i+'_MAG'].mask\n",
    "            cat_croiss_z = cat_croiss_z[~mask_i]\n",
    "\n",
    "# Graphes\n",
    "\n",
    "# Création de l'objet PdfPages pour sauvegarder les graphes dans un fichier PDF\n",
    "with PdfPages('SED_mag_AB_z_2_2.3.pdf') as pdf:\n",
    "\n",
    "    for j in cat_croiss_z[\"z\"]:\n",
    "\n",
    "        wave_len , flux , flux_err = [] , [] , []\n",
    "        empty_key , used_key = [] , []\n",
    "        \n",
    "        if (j>2) and (j<2.3):\n",
    "            for i in filt_name:\n",
    "                if i+'_MAG' in cat_croiss_z.keys():\n",
    "                    used_key.append(i+'_MAG')\n",
    "                    #wave_len.append(filt_dict[i][0])  #simplement pour avoir un nombre, 2eme colonne bizarre\n",
    "                    indices = np.where(cat_croiss_z[\"z\"] == j)[0]\n",
    "                    wave_len.extend(filt_dict[i][0] for k in indices)\n",
    "                    flux.extend(cat_croiss_z[i+'_MAG'][indices])\n",
    "                    flux_err.extend(cat_croiss_z[i+'_MAGERR'][indices])\n",
    "                else:\n",
    "                    empty_key.append(i+'_MAG')\n",
    "\n",
    "\n",
    "            fig = plt.figure(figsize=(10, 7))\n",
    "            plt.errorbar(wave_len, flux, yerr=flux_err, linestyle='None', marker='.' , ecolor='red')\n",
    "            plt.xscale('log')\n",
    "            plt.yscale('log')\n",
    "            plt.xlabel(\"$\\lambda$\")\n",
    "            plt.ylabel(\"mag\")\n",
    "            plt.title(\"SED mag AB en fonction de $\\lambda$\\nz = {}\".format(j))\n",
    "            #plt.show()\n",
    "\n",
    "            pdf.savefig(fig)\n",
    "            plt.close(fig)  # Fermeture explicite de la figure pour libérer la mémoire"
   ]
  },
  {
   "cell_type": "code",
   "execution_count": null,
   "metadata": {},
   "outputs": [],
   "source": []
  }
 ],
 "metadata": {
  "kernelspec": {
   "display_name": "base",
   "language": "python",
   "name": "python3"
  },
  "language_info": {
   "codemirror_mode": {
    "name": "ipython",
    "version": 3
   },
   "file_extension": ".py",
   "mimetype": "text/x-python",
   "name": "python",
   "nbconvert_exporter": "python",
   "pygments_lexer": "ipython3",
   "version": "3.9.7"
  },
  "orig_nbformat": 4
 },
 "nbformat": 4,
 "nbformat_minor": 2
}
